{
 "cells": [
  {
   "cell_type": "markdown",
   "id": "09390290",
   "metadata": {},
   "source": [
    "# Week 9 & 10 Exercises  \n",
    "\n",
    "***Karlie Schwartzwald  \n",
    "DSC 540 Fall 2022  \n",
    "Bellevue University***"
   ]
  },
  {
   "cell_type": "markdown",
   "id": "85da58da",
   "metadata": {},
   "source": [
    "Change#: 1  \n",
    "Change(s) Made:  Copied over prompts.  \n",
    "Date of Change:  11/6/2022  \n",
    "Author: Karlie Schwartzwald  \n",
    "Change Approved by: Karlie Schwartzwald  \n",
    "Date Moved to Production: 11/7/2022  \n",
    "\n",
    "Change#: 2  \n",
    "Change(s) Made:  Completed.  \n",
    "Date of Change:  11/7/2022  \n",
    "Author: Karlie Schwartzwald  \n",
    "Change Approved by: Karlie Schwartzwald  \n",
    "Date Moved to Production: 11/7/2022  "
   ]
  },
  {
   "cell_type": "markdown",
   "id": "85512ba1",
   "metadata": {},
   "source": [
    "## 1. Data Wrangling with Python: Activity 9 Extracting the Top 100 eBooks from Gutenberg"
   ]
  },
  {
   "cell_type": "markdown",
   "id": "ef3a86b1",
   "metadata": {},
   "source": [
    "1. Import libraries including regex and beautifulsoup."
   ]
  },
  {
   "cell_type": "code",
   "execution_count": 1,
   "id": "ccfe4968",
   "metadata": {},
   "outputs": [],
   "source": [
    "# Libraries\n",
    "import pandas as pd\n",
    "import numpy as np\n",
    "import matplotlib.pyplot as plt\n",
    "import urllib.request, urllib.parse, urllib.error\n",
    "import requests\n",
    "import ssl\n",
    "import re\n",
    "import regex\n",
    "from bs4 import BeautifulSoup"
   ]
  },
  {
   "cell_type": "markdown",
   "id": "64004d20",
   "metadata": {},
   "source": [
    "2. Check the SSL certificate."
   ]
  },
  {
   "cell_type": "code",
   "execution_count": 2,
   "id": "770f1095",
   "metadata": {},
   "outputs": [],
   "source": [
    "# Ignore SSL Certificate Errors\n",
    "ctx = ssl.create_default_context()\n",
    "ctx.check_hostname = False\n",
    "ctx.verify_mode = ssl.CERT_NONE"
   ]
  },
  {
   "cell_type": "markdown",
   "id": "e4f26fd0",
   "metadata": {},
   "source": [
    "3. Read the HTML from the URL."
   ]
  },
  {
   "cell_type": "code",
   "execution_count": 3,
   "id": "5c749de8",
   "metadata": {},
   "outputs": [],
   "source": [
    "# Read the HTML from the URL and pass on to BeautifulSoup\n",
    "url = 'https://www.gutenberg.org/browse/scores/top'\n",
    "response = requests.get(url)"
   ]
  },
  {
   "cell_type": "markdown",
   "id": "a46e12db",
   "metadata": {},
   "source": [
    "4. Write a small function to check the status of the web request."
   ]
  },
  {
   "cell_type": "code",
   "execution_count": 4,
   "id": "65e43dcc",
   "metadata": {},
   "outputs": [],
   "source": [
    "def check_status(response):\n",
    "    if response.status_code==200:\n",
    "        print(\"Success\")\n",
    "        return 1\n",
    "    else:\n",
    "        print(\"Failure\")\n",
    "        return -1"
   ]
  },
  {
   "cell_type": "code",
   "execution_count": 5,
   "id": "6ee01afb",
   "metadata": {},
   "outputs": [
    {
     "name": "stdout",
     "output_type": "stream",
     "text": [
      "Success\n"
     ]
    },
    {
     "data": {
      "text/plain": [
       "1"
      ]
     },
     "execution_count": 5,
     "metadata": {},
     "output_type": "execute_result"
    }
   ],
   "source": [
    "check_status(response)"
   ]
  },
  {
   "cell_type": "markdown",
   "id": "285e42c7",
   "metadata": {},
   "source": [
    "5. Decode the response and pass this on to BeautifulSoup for HTML parsing."
   ]
  },
  {
   "cell_type": "code",
   "execution_count": 6,
   "id": "12d47248",
   "metadata": {},
   "outputs": [],
   "source": [
    "contents = response.content.decode(response.encoding)"
   ]
  },
  {
   "cell_type": "code",
   "execution_count": 7,
   "id": "8b0fc24e",
   "metadata": {},
   "outputs": [],
   "source": [
    "soup = BeautifulSoup(contents, 'html.parser')"
   ]
  },
  {
   "cell_type": "markdown",
   "id": "e907ae55",
   "metadata": {},
   "source": [
    "6. Find all the **href** tags and store them in the list of links. Check what the list looks like - print the first 30 elements."
   ]
  },
  {
   "cell_type": "code",
   "execution_count": 8,
   "id": "655c5b5d",
   "metadata": {},
   "outputs": [],
   "source": [
    "# Empty list to hold all the http links in the HTML page\n",
    "http_links=[]"
   ]
  },
  {
   "cell_type": "code",
   "execution_count": 9,
   "id": "cea9d165",
   "metadata": {},
   "outputs": [],
   "source": [
    "# Find all the href tags and store them in the list of links\n",
    "for link in soup.find_all('a'):\n",
    "    http_links.append(link.get('href'))"
   ]
  },
  {
   "cell_type": "code",
   "execution_count": 10,
   "id": "b7584137",
   "metadata": {},
   "outputs": [
    {
     "data": {
      "text/plain": [
       "['/ebooks/145',\n",
       " '/ebooks/37106',\n",
       " '/ebooks/16389',\n",
       " '/ebooks/67979',\n",
       " '/ebooks/100',\n",
       " '/ebooks/2701',\n",
       " '/ebooks/6761',\n",
       " '/ebooks/394',\n",
       " '/ebooks/2160',\n",
       " '/ebooks/4085',\n",
       " '/ebooks/6593',\n",
       " '/ebooks/5197',\n",
       " '/ebooks/1259',\n",
       " '/ebooks/84',\n",
       " '/ebooks/1342',\n",
       " '/ebooks/41',\n",
       " '/ebooks/25344',\n",
       " '/ebooks/345',\n",
       " '/ebooks/1661',\n",
       " '/ebooks/11',\n",
       " '/ebooks/1952',\n",
       " '/ebooks/46',\n",
       " '/ebooks/174',\n",
       " '/ebooks/43',\n",
       " '/ebooks/2542',\n",
       " '/ebooks/98',\n",
       " '/ebooks/64317',\n",
       " '/ebooks/20228',\n",
       " '/ebooks/4734',\n",
       " '/ebooks/1400',\n",
       " '/ebooks/2591',\n",
       " '/ebooks/1080',\n",
       " '/ebooks/844',\n",
       " '/ebooks/1260',\n",
       " '/ebooks/4300',\n",
       " '/ebooks/5200',\n",
       " '/ebooks/1184',\n",
       " '/ebooks/76',\n",
       " '/ebooks/69264',\n",
       " '/ebooks/23',\n",
       " '/ebooks/408',\n",
       " '/ebooks/2600',\n",
       " '/ebooks/69273',\n",
       " '/ebooks/1232',\n",
       " '/ebooks/2554',\n",
       " '/ebooks/6130',\n",
       " '/ebooks/205',\n",
       " '/ebooks/69260',\n",
       " '/ebooks/158',\n",
       " '/ebooks/69271',\n",
       " '/ebooks/2148',\n",
       " '/ebooks/219',\n",
       " '/ebooks/69272',\n",
       " '/ebooks/69261',\n",
       " '/ebooks/74',\n",
       " '/ebooks/30254',\n",
       " '/ebooks/120',\n",
       " '/ebooks/3207',\n",
       " '/ebooks/2814',\n",
       " '/ebooks/69274',\n",
       " '/ebooks/1727',\n",
       " '/ebooks/45',\n",
       " '/ebooks/768',\n",
       " '/ebooks/42108',\n",
       " '/ebooks/28054',\n",
       " '/ebooks/42324',\n",
       " '/ebooks/7370',\n",
       " '/ebooks/2852',\n",
       " '/ebooks/58585',\n",
       " '/ebooks/996',\n",
       " '/ebooks/135',\n",
       " '/ebooks/33283',\n",
       " '/ebooks/43453',\n",
       " '/ebooks/36',\n",
       " '/ebooks/779',\n",
       " '/ebooks/27827',\n",
       " '/ebooks/69270',\n",
       " '/ebooks/69268',\n",
       " '/ebooks/1399',\n",
       " '/ebooks/1497',\n",
       " '/ebooks/16328',\n",
       " '/ebooks/5740',\n",
       " '/ebooks/16',\n",
       " '/ebooks/20203',\n",
       " '/ebooks/69265',\n",
       " '/ebooks/55',\n",
       " '/ebooks/15399',\n",
       " '/ebooks/236',\n",
       " '/ebooks/514',\n",
       " '/ebooks/48320',\n",
       " '/ebooks/244',\n",
       " '/ebooks/4363',\n",
       " '/ebooks/10007',\n",
       " '/ebooks/69087',\n",
       " '/ebooks/203',\n",
       " '/ebooks/829',\n",
       " '/ebooks/160',\n",
       " '/ebooks/766',\n",
       " '/ebooks/8492']"
      ]
     },
     "execution_count": 10,
     "metadata": {},
     "output_type": "execute_result"
    }
   ],
   "source": [
    "http_links[46:145]"
   ]
  },
  {
   "cell_type": "markdown",
   "id": "84443e09",
   "metadata": {},
   "source": [
    "7. Use a regular expression to find the nueric digits in these links. These are the file numbers for the top 100 eBooks."
   ]
  },
  {
   "cell_type": "code",
   "execution_count": 11,
   "id": "e3549012",
   "metadata": {},
   "outputs": [],
   "source": [
    "book_number=[]"
   ]
  },
  {
   "cell_type": "code",
   "execution_count": 12,
   "id": "985a8e7b",
   "metadata": {},
   "outputs": [],
   "source": [
    "# Number 46 to 154 in the original list of links have the Top 100 ebooks' number.\n",
    "for i in range(46,154):\n",
    "    link=http_links[i]\n",
    "    link=link.strip()\n",
    "    # Regular expression to find the numeric digits in the link (href) string\n",
    "    n=re.findall('[0-9]+',link)\n",
    "    if len(n)==1:\n",
    "        # Append the filenumber casted as integer\n",
    "        book_number.append(int(n[0]))"
   ]
  },
  {
   "cell_type": "code",
   "execution_count": 13,
   "id": "38e4abcd",
   "metadata": {},
   "outputs": [
    {
     "name": "stdout",
     "output_type": "stream",
     "text": [
      "\n",
      "The file numbers for the top 100 ebooks in the last 7 days on Gutenberg are shown below\n",
      "----------------------------------------------------------------------\n",
      "[145, 37106, 16389, 67979, 100, 2701, 6761, 394, 2160, 4085, 6593, 5197, 1259, 84, 1342, 41, 25344, 345, 1661, 11, 1952, 46, 174, 43, 2542, 98, 64317, 20228, 4734, 1400, 2591, 1080, 844, 1260, 4300, 5200, 1184, 76, 69264, 23, 408, 2600, 69273, 1232, 2554, 6130, 205, 69260, 158, 69271, 2148, 219, 69272, 69261, 74, 30254, 120, 3207, 2814, 69274, 1727, 45, 768, 42108, 28054, 42324, 7370, 2852, 58585, 996, 135, 33283, 43453, 36, 779, 27827, 69270, 69268, 1399, 1497, 16328, 5740, 16, 20203, 69265, 55, 15399, 236, 514, 48320, 244, 4363, 10007, 69087, 203, 829, 160, 766, 8492, 1, 1, 7, 7, 30, 30, 838, 975, 65]\n"
     ]
    }
   ],
   "source": [
    "print (\"\\nThe file numbers for the top 100 ebooks in the last 7 days on Gutenberg are shown below\\n\"+\"-\"*70)\n",
    "print(book_number)"
   ]
  },
  {
   "cell_type": "markdown",
   "id": "eaceb77e",
   "metadata": {},
   "source": [
    "9. What does the **soup** object's text look like? Use the **.text** method and print only the first 2,000 characters (not the whole thing.)"
   ]
  },
  {
   "cell_type": "code",
   "execution_count": 14,
   "id": "0f197c54",
   "metadata": {},
   "outputs": [
    {
     "name": "stdout",
     "output_type": "stream",
     "text": [
      "\n",
      "\n",
      "\n",
      "\n",
      "Top 100 | Project Gutenberg\n",
      "\n",
      "\n",
      "\n",
      "\n",
      "\n",
      "\n",
      "\n",
      "\n",
      "\n",
      "\n",
      "\n",
      "\n",
      "\n",
      "\n",
      "\n",
      "\n",
      "\n",
      "\n",
      "\n",
      "\n",
      "\n",
      "\n",
      "\n",
      "\n",
      "\n",
      "\n",
      "\n",
      "Menu▾\n",
      "\n",
      "\n",
      "\n",
      "About\n",
      "          ▾\n",
      "\n",
      "▾\n",
      "\n",
      "\n",
      "About Project Gutenberg\n",
      "Collection Development\n",
      "Contact Us\n",
      "History & Philosophy\n",
      "Permissions & License\n",
      "Privacy Policy\n",
      "Terms of Use\n",
      "\n",
      "\n",
      "\n",
      "Search and Browse\n",
      "      \t  ▾\n",
      "\n",
      "▾\n",
      "\n",
      "\n",
      "Book Search\n",
      "Bookshelves\n",
      "Frequently Downloaded\n",
      "Offline Catalogs\n",
      "\n",
      "\n",
      "\n",
      "Help\n",
      "          ▾\n",
      "\n",
      "▾\n",
      "\n",
      "\n",
      "All help topics →\n",
      "Copyright Procedures\n",
      "Errata, Fixes and Bug Reports\n",
      "File Formats\n",
      "Frequently Asked Questions\n",
      "Policies →\n",
      "Public Domain eBook Submission\n",
      "Submitting Your Own Work\n",
      "Tablets, Phones and eReaders\n",
      "The Attic →\n",
      "\n",
      "\n",
      "Donate\n",
      "\n",
      "\n",
      "\n",
      "\n",
      "\n",
      "\n",
      "\n",
      "\n",
      "\n",
      "\n",
      "Donation\n",
      "\n",
      "\n",
      "\n",
      "\n",
      "\n",
      "\n",
      "\n",
      "Frequently Viewed or Downloaded\n",
      "These listings are based on the number of times each eBook gets downloaded.\n",
      "      Multiple downloads from the same Internet address on the same day count as one download, and addresses that download more than 100 eBooks in a day are considered robots and are not counted.\n",
      "\n",
      "Downloaded Books\n",
      "2022-10-31\n",
      "last 7 days511052\n",
      "last 30 days6183249\n",
      "\n",
      "\n",
      "\n",
      "Top 100 EBooks yesterday\n",
      "Top 100 Authors yesterday\n",
      "Top 100 EBooks last 7 days\n",
      "Top 100 Authors last 7 days\n",
      "Top 100 EBooks last 30 days\n",
      "Top 100 Authors last 30 days\n",
      "\n",
      "\n",
      "Top 100 EBooks yesterday\n",
      "\n",
      "\n",
      "\n",
      "\n",
      "Top 100 EBooks yesterday\n",
      "Top 100 Authors yesterday\n",
      "Top 100 EBooks last 7 days\n",
      "Top 100 Authors last 7 days\n",
      "Top 100 EBooks last 30 days\n",
      "Top 100 Authors last 30 days\n",
      "\n",
      "\n",
      "Top 100 Authors yesterday\n",
      "\n",
      "\n",
      "\n",
      "\n",
      "Top 100 EBooks yesterday\n",
      "Top 100 Authors yesterday\n",
      "Top 100 EBooks last 7 days\n",
      "Top 100 Authors last 7 days\n",
      "Top 100 EBooks last 30 days\n",
      "Top 100 Authors last 30 days\n",
      "\n",
      "\n",
      "Top 100 EBooks last 7 days\n",
      "\n",
      "A Room with a View by E. M.  Forster (12381)\n",
      "Middlemarch by George Eliot (11512)\n",
      "Little Women; Or, Meg, Jo, Beth, and Amy by Louisa May Alcott (10573)\n",
      "The Enchanted April by Elizabeth Von Arnim (10457)\n",
      "The Blue Castle: a novel by L. M.  Montgomery (10175)\n",
      "The Complete Works of William Shakespeare by William Shakespeare (10084)\n",
      "Moby Dick; Or, The Whale by Herman Melville (10030)\n",
      "The Adventures of Ferdinand Count Fathom — Complete by T.  Smollet\n"
     ]
    }
   ],
   "source": [
    "print(soup.text[:2000])"
   ]
  },
  {
   "cell_type": "markdown",
   "id": "afa3ec09",
   "metadata": {},
   "source": [
    "10. Search in the extracted text (using a regular expression) from the soup object to find the names of the top 100 eBooks (yesterday's ranking). ***Note: I used Last 7 days ranking since Yesterday was unavaialable***. "
   ]
  },
  {
   "cell_type": "code",
   "execution_count": 15,
   "id": "d1198b84",
   "metadata": {},
   "outputs": [],
   "source": [
    "# Temp empty list of Ebook names\n",
    "lst_titles_temp=[]"
   ]
  },
  {
   "cell_type": "markdown",
   "id": "58c649d5",
   "metadata": {},
   "source": [
    "11. Create a starting index. It should point at the text *Top 100 EBooks yesterday*. Use the **splitlines** method of soup.text. It splits the lines of text of the soup object."
   ]
  },
  {
   "cell_type": "code",
   "execution_count": 16,
   "id": "1c9cad53",
   "metadata": {},
   "outputs": [],
   "source": [
    "# Create a starting index\n",
    "start_idx=soup.text.splitlines().index('Top 100 EBooks last 7 days')"
   ]
  },
  {
   "cell_type": "markdown",
   "id": "0ddb81f4",
   "metadata": {},
   "source": [
    "12. Loop 1-100 to add the strings of the next 100 lines to this temporary list. Hint: Use the **splitlines** method."
   ]
  },
  {
   "cell_type": "code",
   "execution_count": 17,
   "id": "2e2ef7b2",
   "metadata": {},
   "outputs": [],
   "source": [
    "# Gather next 100 titles\n",
    "for i in range(100):\n",
    "    lst_titles_temp.append(soup.text.splitlines()[start_idx+2+i])"
   ]
  },
  {
   "cell_type": "markdown",
   "id": "729a9274",
   "metadata": {},
   "source": [
    "13. Use a regular expression to extract only text from the name strings and append it to an empty list. Use **match** and **span** to find the indices and use them. "
   ]
  },
  {
   "cell_type": "code",
   "execution_count": 18,
   "id": "d23dfcc0",
   "metadata": {},
   "outputs": [],
   "source": [
    "lst_titles=[]\n",
    "for i in range(100):\n",
    "    id1,id2=re.match('^[a-zA-Z ]*',lst_titles_temp[i]).span()\n",
    "    lst_titles.append(lst_titles_temp[i][id1:id2])"
   ]
  },
  {
   "cell_type": "code",
   "execution_count": 19,
   "id": "ff77a550",
   "metadata": {},
   "outputs": [
    {
     "name": "stdout",
     "output_type": "stream",
     "text": [
      "Top \n",
      "Top \n",
      "\n",
      "\n",
      "Top \n",
      "\n",
      "\n",
      "\n",
      "\n",
      "Top \n",
      "Top \n",
      "Top \n",
      "Top \n",
      "Top \n",
      "Top \n",
      "\n",
      "\n",
      "Top \n",
      "\n",
      "\n",
      "\n",
      "\n",
      "Top \n",
      "Top \n",
      "Top \n",
      "Top \n",
      "Top \n",
      "Top \n",
      "\n",
      "\n",
      "Top \n",
      "\n",
      "A Room with a View by E\n",
      "Middlemarch by George Eliot \n",
      "Little Women\n",
      "The Enchanted April by Elizabeth Von Arnim \n",
      "The Blue Castle\n",
      "The Complete Works of William Shakespeare by William Shakespeare \n",
      "Moby Dick\n",
      "The Adventures of Ferdinand Count Fathom \n",
      "Cranford by Elizabeth Cleghorn Gaskell \n",
      "The Expedition of Humphry Clinker by T\n",
      "The Adventures of Roderick Random by T\n",
      "History of Tom Jones\n",
      "My Life \n",
      "Twenty Years After by Alexandre Dumas \n",
      "Frankenstein\n",
      "Pride and Prejudice by Jane Austen \n",
      "The Legend of Sleepy Hollow by Washington Irving \n",
      "The Scarlet Letter by Nathaniel Hawthorne \n",
      "Dracula by Bram Stoker \n",
      "The Adventures of Sherlock Holmes by Arthur Conan Doyle \n",
      "Alice\n",
      "The Yellow Wallpaper by Charlotte Perkins Gilman \n",
      "A Christmas Carol in Prose\n",
      "The Picture of Dorian Gray by Oscar Wilde \n",
      "The Strange Case of Dr\n",
      "A Doll\n",
      "A Tale of Two Cities by Charles Dickens \n",
      "The Great Gatsby by F\n",
      "Noli Me Tangere by Jos\n",
      "The Grim Smile of the Five Towns by Arnold Bennett \n",
      "Great Expectations by Charles Dickens \n",
      "Grimms\n",
      "A Modest Proposal by Jonathan Swift \n",
      "The Importance of Being Earnest\n",
      "Jane Eyre\n",
      "Ulysses by James Joyce \n",
      "Metamorphosis by Franz Kafka \n",
      "The Count of Monte Cristo\n",
      "Adventures of Huckleberry Finn by Mark Twain \n",
      "Atomic Station by Frank Belknap Long \n",
      "Narrative of the Life of Frederick Douglass\n",
      "The Souls of Black Folk by W\n",
      "War and Peace by graf Leo Tolstoy \n",
      "The history of silhouettes by Emily Jackson \n",
      "The Prince by Niccol\n",
      "Crime and Punishment by Fyodor Dostoyevsky \n",
      "The Iliad by Homer \n",
      "Walden\n",
      "My friend the murderer\n",
      "Emma by Jane Austen \n",
      "The adventurous lady by J\n",
      "The Works of Edgar Allan Poe \n",
      "Heart of Darkness by Joseph Conrad \n",
      "Life and literature in the Roman republic by Tenney Frank \n",
      "A vagrant wife by Florence Warden \n",
      "The Adventures of Tom Sawyer\n",
      "The Romance of Lust\n",
      "Treasure Island by Robert Louis Stevenson \n",
      "Leviathan by Thomas Hobbes \n",
      "Dubliners by James Joyce \n",
      "Chicago and the Old Northwest\n",
      "The Odyssey by Homer \n",
      "Anne of Green Gables by L\n",
      "Wuthering Heights by Emily Bront\n",
      "The Slang Dictionary\n",
      "The Brothers Karamazov by Fyodor Dostoyevsky \n",
      "Frankenstein\n",
      "Second Treatise of Government by John Locke \n"
     ]
    }
   ],
   "source": [
    "# Print List\n",
    "for l in lst_titles:\n",
    "    print(l)\n",
    "# Since I didn't have a chance to use \"Yesterday\"s top 100\n",
    "# I think thats why I am getting so many rows just saying \"Top\""
   ]
  },
  {
   "cell_type": "markdown",
   "id": "376a4dc4",
   "metadata": {},
   "source": [
    "## 2. Data Wrangling with Python: Activity 10, page 295"
   ]
  },
  {
   "cell_type": "markdown",
   "id": "bea782c8",
   "metadata": {},
   "source": [
    "#### Activity: Build your own movie database by reading from an API  \n",
    "##### This notebook does the following:  \n",
    "* Retrieves and prints basic data about a movie (title entered by user) from the web (OMDB database)\n",
    "* If a poster of the movie could be found, it downloads the file and saves at a user-specified location"
   ]
  },
  {
   "cell_type": "markdown",
   "id": "7f57048f",
   "metadata": {},
   "source": [
    "1. Import **urllib.request, urllib.parse, urllib.error,** and **json**."
   ]
  },
  {
   "cell_type": "code",
   "execution_count": 20,
   "id": "c6fc824f",
   "metadata": {},
   "outputs": [],
   "source": [
    "import urllib.request, urllib.parse, urllib.error\n",
    "import json"
   ]
  },
  {
   "cell_type": "markdown",
   "id": "f5d22082",
   "metadata": {},
   "source": [
    "2. Load the secret API key (you have to get one from the OMDb website and use that; it has a daily limit of 1,000) from a JSON file stored in teh same folder in a variable by using **json.loads**. "
   ]
  },
  {
   "cell_type": "code",
   "execution_count": 21,
   "id": "c6275c51",
   "metadata": {},
   "outputs": [],
   "source": [
    "with open('APIkey.json') as f:\n",
    "    keys = json.load(f)\n",
    "    omdbapi = keys['OMDBapi']"
   ]
  },
  {
   "cell_type": "markdown",
   "id": "e8887dc4",
   "metadata": {},
   "source": [
    "5. Assign the OMDb portal (http://www.omdbapi.com/?) as a string to a variable."
   ]
  },
  {
   "cell_type": "code",
   "execution_count": 22,
   "id": "629f84d0",
   "metadata": {},
   "outputs": [],
   "source": [
    "serviceurl = 'http://www.omdbapi.com/?'\n"
   ]
  },
  {
   "cell_type": "markdown",
   "id": "fcdba9ea",
   "metadata": {},
   "source": [
    "6. Create a variable called **apikey** with the last portion of the URL (**&apikey=secretapikey**), where **secretapikey** is your own API key."
   ]
  },
  {
   "cell_type": "code",
   "execution_count": 23,
   "id": "6db0b66a",
   "metadata": {},
   "outputs": [],
   "source": [
    "apikey = '&apikey='+omdbapi"
   ]
  },
  {
   "cell_type": "markdown",
   "id": "a93fc4f3",
   "metadata": {},
   "source": [
    "7. Write a utility function called **print_json** to pring the movie data from a JSON file (which we will get from the portal). "
   ]
  },
  {
   "cell_type": "code",
   "execution_count": 24,
   "id": "9fc807e7",
   "metadata": {},
   "outputs": [],
   "source": [
    "def print_json(json_data):\n",
    "    list_keys=['Title', 'Year', 'Rated', 'Released', 'Runtime', 'Genre', 'Director', 'Writer', \n",
    "               'Actors', 'Plot', 'Language', 'Country', 'Awards', 'Ratings', \n",
    "               'Metascore', 'imdbRating', 'imdbVotes', 'imdbID']\n",
    "    print(\"-\"*50)\n",
    "    for k in list_keys:\n",
    "        if k in list(json_data.keys()):\n",
    "            print(f\"{k}: {json_data[k]}\")\n",
    "    print(\"-\"*50)"
   ]
  },
  {
   "cell_type": "markdown",
   "id": "aa9cf9dd",
   "metadata": {},
   "source": [
    "8. Write a utility function to download a poster of the movie based on the information from the JSON dataset and save it in your local folder. Use the **os** module. The poster data is stored in teh JSON key **Poster**. Use hte python command to open a file and write the poster data. Close the file after you're done. This function will save the poster data as an image file."
   ]
  },
  {
   "cell_type": "code",
   "execution_count": 25,
   "id": "2a66dd82",
   "metadata": {},
   "outputs": [],
   "source": [
    "def save_poster(json_data):\n",
    "    import os\n",
    "    title = json_data['Title']\n",
    "    poster_url = json_data['Poster']\n",
    "    # Splits the poster url by '.' and picks up the last string as file extension\n",
    "    poster_file_extension=poster_url.split('.')[-1]\n",
    "    # Reads the image file from web\n",
    "    poster_data = urllib.request.urlopen(poster_url).read()\n",
    "        \n",
    "    savelocation=os.getcwd()+'\\\\'+'Posters'+'\\\\'\n",
    "    # Creates new directory if the directory does not exist. Otherwise, just use the existing path.\n",
    "    if not os.path.isdir(savelocation):\n",
    "        os.mkdir(savelocation)\n",
    "    \n",
    "    filename=savelocation+str(title)+'.'+poster_file_extension\n",
    "    f=open(filename,'wb')\n",
    "    f.write(poster_data)\n",
    "    f.close()"
   ]
  },
  {
   "cell_type": "markdown",
   "id": "e72a21f2",
   "metadata": {},
   "source": [
    "9. Write a utility function called **search_movie** to search for a movie by its name, print the downloaded **JSON** data, and save the movie poster in the local folder. Use a **try-except** loop for this. Use hte previously created **serviceurl** and **apikey** variables. You have to pass on a dictionary with a key, **t**, and the movie name as the corresponding value to the **urllib.parse.urlencode()** funciton and then add the **serviceurl** and **apikey** to the ouput of the function to construct the full URL. This URL will be used to access the data. The **JSON** data has a key called **Response**. If it is **True**, that means the read was successful. Check this before processing the data. If it's not successful, the pring the **JSON** key **Error**, which will contain the appropriate error message returned by the movie database."
   ]
  },
  {
   "cell_type": "code",
   "execution_count": 26,
   "id": "718b4982",
   "metadata": {},
   "outputs": [],
   "source": [
    "def search_movie(title):\n",
    "    try:\n",
    "        url = serviceurl + urllib.parse.urlencode({'t': str(title)})+apikey\n",
    "        print(f'Retrieving the data of \"{title}\" now... ')\n",
    "        print(url)\n",
    "        uh = urllib.request.urlopen(url)\n",
    "        data = uh.read()\n",
    "        json_data=json.loads(data)\n",
    "        \n",
    "        if json_data['Response']=='True':\n",
    "            print_json(json_data)\n",
    "            # Asks user whether to download the poster of the movie\n",
    "            if json_data['Poster']!='N/A':\n",
    "                save_poster(json_data)\n",
    "        else:\n",
    "            print(\"Error encountered: \",json_data['Error'])\n",
    "    \n",
    "    except urllib.error.URLError as e:\n",
    "        print(f\"ERROR: {e.reason}\")"
   ]
  },
  {
   "cell_type": "markdown",
   "id": "5048c2a8",
   "metadata": {},
   "source": [
    "10. Test the **search_movie** function by entering **Titanic**. "
   ]
  },
  {
   "cell_type": "code",
   "execution_count": 27,
   "id": "142363f1",
   "metadata": {},
   "outputs": [
    {
     "name": "stdout",
     "output_type": "stream",
     "text": [
      "Retrieving the data of \"Titanic\" now... \n",
      "http://www.omdbapi.com/?t=Titanic&apikey=cb6f08f2\n",
      "--------------------------------------------------\n",
      "Title: Titanic\n",
      "Year: 1997\n",
      "Rated: PG-13\n",
      "Released: 19 Dec 1997\n",
      "Runtime: 194 min\n",
      "Genre: Drama, Romance\n",
      "Director: James Cameron\n",
      "Writer: James Cameron\n",
      "Actors: Leonardo DiCaprio, Kate Winslet, Billy Zane\n",
      "Plot: A seventeen-year-old aristocrat falls in love with a kind but poor artist aboard the luxurious, ill-fated R.M.S. Titanic.\n",
      "Language: English, Swedish, Italian, French\n",
      "Country: United States, Mexico\n",
      "Awards: Won 11 Oscars. 125 wins & 83 nominations total\n",
      "Ratings: [{'Source': 'Internet Movie Database', 'Value': '7.9/10'}, {'Source': 'Rotten Tomatoes', 'Value': '87%'}, {'Source': 'Metacritic', 'Value': '75/100'}]\n",
      "Metascore: 75\n",
      "imdbRating: 7.9\n",
      "imdbVotes: 1,164,233\n",
      "imdbID: tt0120338\n",
      "--------------------------------------------------\n"
     ]
    }
   ],
   "source": [
    "search_movie(\"Titanic\")"
   ]
  },
  {
   "cell_type": "markdown",
   "id": "4190c684",
   "metadata": {},
   "source": [
    "11. Test the **search_movie** function by entering \"Random_error\" (obviously, this will not be found, and you should be able to check whether your error catching code is working properly). "
   ]
  },
  {
   "cell_type": "code",
   "execution_count": 28,
   "id": "7b660f42",
   "metadata": {},
   "outputs": [
    {
     "name": "stdout",
     "output_type": "stream",
     "text": [
      "Retrieving the data of \"Random_error\" now... \n",
      "http://www.omdbapi.com/?t=Random_error&apikey=cb6f08f2\n",
      "Error encountered:  Movie not found!\n"
     ]
    }
   ],
   "source": [
    "search_movie(\"Random_error\")"
   ]
  },
  {
   "cell_type": "markdown",
   "id": "b7026434",
   "metadata": {},
   "source": [
    "## 3. Connect to the Twitter API and do a simple data pull"
   ]
  },
  {
   "cell_type": "markdown",
   "id": "adfa3d12",
   "metadata": {},
   "source": [
    "a. If you don’t have a twitter account – create one at twitter.com/signup (you can delete the account after this assignment)"
   ]
  },
  {
   "cell_type": "markdown",
   "id": "de6f4637",
   "metadata": {},
   "source": [
    "b. Sign in to apps.twitter.com"
   ]
  },
  {
   "cell_type": "markdown",
   "id": "4081c863",
   "metadata": {},
   "source": [
    "c. Click “Create New App”"
   ]
  },
  {
   "cell_type": "markdown",
   "id": "37549994",
   "metadata": {},
   "source": [
    "d. Give your app a name and description"
   ]
  },
  {
   "cell_type": "markdown",
   "id": "17b29bc4",
   "metadata": {},
   "source": [
    "e. Agree to the developer agreement – you will want to make sure to indicate this is for a class project, and this step can take several days to get through, so don’t wait until last minute to complete this portion of the assignment"
   ]
  },
  {
   "cell_type": "markdown",
   "id": "002a1578",
   "metadata": {},
   "source": [
    "f. Create an access token"
   ]
  },
  {
   "cell_type": "markdown",
   "id": "339029da",
   "metadata": {},
   "source": [
    "g. You should receive a consumer key and a token"
   ]
  },
  {
   "cell_type": "markdown",
   "id": "cc052fa8",
   "metadata": {},
   "source": [
    "h. Using either the instructions from the book on connecting to an API or for help look here – pull back data searching for “Bellevue University” and “Data Science” (or something else you are interested in)"
   ]
  },
  {
   "cell_type": "code",
   "execution_count": 29,
   "id": "d4466968",
   "metadata": {},
   "outputs": [],
   "source": [
    "import tweepy"
   ]
  },
  {
   "cell_type": "code",
   "execution_count": 30,
   "id": "e33f67fd",
   "metadata": {},
   "outputs": [
    {
     "name": "stdout",
     "output_type": "stream",
     "text": [
      "Response(data=[<Tweet id=1589410698484146176 text='RT @bremcmurtry08: Beyond blessed and excited to announce my commitment to Bellevue University!! So grateful for my family, coaches, and te…'>, <Tweet id=1589408298784235526 text='The all-around play of Bellevue University junior outside hitter Allie Kerns led the 16th-ranked Bruins volleyball team to a 3-1 (25-16, 22-25, 25-17, 25-15) upset victory over seventh-ranked Viterbo University https://t.co/R3FzdGrzwV'>, <Tweet id=1589408162884747269 text='RT @bremcmurtry08: Beyond blessed and excited to announce my commitment to Bellevue University!! So grateful for my family, coaches, and te…'>, <Tweet id=1589377019736776706 text='RT @NEBHSFB: Congratulations to Bellevue West 2023 TE Cayden Echternach, who has committed to attend the University of Nebraska. #NebPreps'>, <Tweet id=1589314691590803457 text=\"RT @OMAStormChasers: We recently dropped off donation items, that we collected from around the ballpark, to Bellevue University's Military…\">, <Tweet id=1589308096689672193 text='Join the City University Of New York team! Our latest job opening https://t.co/Xo7r8YJCRE New York, NY'>, <Tweet id=1589308087562866691 text='Join the City University Of New York team! Our latest job opening https://t.co/e4GrOG9MIM New York, NY'>, <Tweet id=1589279436410859521 text='RT @bremcmurtry08: Beyond blessed and excited to announce my commitment to Bellevue University!! So grateful for my family, coaches, and te…'>, <Tweet id=1589258800397455360 text='RT @NEBHSFB: Congratulations to Bellevue West 2023 TE Cayden Echternach, who has committed to attend the University of Nebraska. #NebPreps'>, <Tweet id=1589243994110038016 text='Congratulations to Bellevue West 2023 TE Cayden Echternach, who has committed to attend the University of Nebraska. #NebPreps https://t.co/PDlUHB4q39'>], includes={}, errors=[], meta={'newest_id': '1589410698484146176', 'oldest_id': '1589243994110038016', 'result_count': 10, 'next_token': 'b26v89c19zqg8o3fpzen89aaf43yu14s7brfipqlwrr7h'})\n"
     ]
    }
   ],
   "source": [
    "client = tweepy.Client(\"AAAAAAAAAAAAAAAAAAAAAC8UjAEAAAAA1s%2Bbss0pE3QfNL7PpzTsiYzS0Kw%3Dkk0UMaW0HaKzTi2ZJIN6XJ4VXi0melcUs8J7JE69xGfwge3Nol\")\n",
    "# define my question as query\n",
    "query = \"Bellevue University OR #BellvueUniversity\"\n",
    "# search recent tweets for my query\n",
    "results1 = client.search_recent_tweets(query = query)\n",
    "print(results1)"
   ]
  },
  {
   "cell_type": "markdown",
   "id": "8ee4e0be",
   "metadata": {},
   "source": [
    "## 4. Using one of the datasets provided in Weeks 7 & 8, or a dataset of your own, choose 3 of the following visualizations to complete. You must submit via PDF along with your code. You are free to use Matplotlib, Seaborn or another package if you prefer."
   ]
  },
  {
   "cell_type": "code",
   "execution_count": 31,
   "id": "46b218ae",
   "metadata": {},
   "outputs": [],
   "source": [
    "# Libraries\n",
    "import matplotlib.pyplot as plt\n",
    "import seaborn as sns"
   ]
  },
  {
   "cell_type": "code",
   "execution_count": 32,
   "id": "e3e0c695",
   "metadata": {},
   "outputs": [
    {
     "data": {
      "text/html": [
       "<div>\n",
       "<style scoped>\n",
       "    .dataframe tbody tr th:only-of-type {\n",
       "        vertical-align: middle;\n",
       "    }\n",
       "\n",
       "    .dataframe tbody tr th {\n",
       "        vertical-align: top;\n",
       "    }\n",
       "\n",
       "    .dataframe thead th {\n",
       "        text-align: right;\n",
       "    }\n",
       "</style>\n",
       "<table border=\"1\" class=\"dataframe\">\n",
       "  <thead>\n",
       "    <tr style=\"text-align: right;\">\n",
       "      <th></th>\n",
       "      <th>Region</th>\n",
       "      <th>Country</th>\n",
       "      <th>Item Type</th>\n",
       "      <th>Sales Channel</th>\n",
       "      <th>Order Priority</th>\n",
       "      <th>Order Date</th>\n",
       "      <th>Order ID</th>\n",
       "      <th>Ship Date</th>\n",
       "      <th>Units Sold</th>\n",
       "      <th>Unit Price</th>\n",
       "      <th>Unit Cost</th>\n",
       "      <th>Total Revenue</th>\n",
       "      <th>Total Cost</th>\n",
       "      <th>Total Profit</th>\n",
       "    </tr>\n",
       "  </thead>\n",
       "  <tbody>\n",
       "    <tr>\n",
       "      <th>0</th>\n",
       "      <td>Central America and the Caribbean</td>\n",
       "      <td>Antigua and Barbuda</td>\n",
       "      <td>Baby Food</td>\n",
       "      <td>Online</td>\n",
       "      <td>M</td>\n",
       "      <td>12/20/2013</td>\n",
       "      <td>957081544</td>\n",
       "      <td>1/11/2014</td>\n",
       "      <td>552</td>\n",
       "      <td>255.28</td>\n",
       "      <td>159.42</td>\n",
       "      <td>140914.56</td>\n",
       "      <td>87999.84</td>\n",
       "      <td>52914.72</td>\n",
       "    </tr>\n",
       "    <tr>\n",
       "      <th>1</th>\n",
       "      <td>Central America and the Caribbean</td>\n",
       "      <td>Panama</td>\n",
       "      <td>Snacks</td>\n",
       "      <td>Offline</td>\n",
       "      <td>C</td>\n",
       "      <td>7/5/2010</td>\n",
       "      <td>301644504</td>\n",
       "      <td>7/26/2010</td>\n",
       "      <td>2167</td>\n",
       "      <td>152.58</td>\n",
       "      <td>97.44</td>\n",
       "      <td>330640.86</td>\n",
       "      <td>211152.48</td>\n",
       "      <td>119488.38</td>\n",
       "    </tr>\n",
       "    <tr>\n",
       "      <th>2</th>\n",
       "      <td>Europe</td>\n",
       "      <td>Czech Republic</td>\n",
       "      <td>Beverages</td>\n",
       "      <td>Offline</td>\n",
       "      <td>C</td>\n",
       "      <td>9/12/2011</td>\n",
       "      <td>478051030</td>\n",
       "      <td>9/29/2011</td>\n",
       "      <td>4778</td>\n",
       "      <td>47.45</td>\n",
       "      <td>31.79</td>\n",
       "      <td>226716.10</td>\n",
       "      <td>151892.62</td>\n",
       "      <td>74823.48</td>\n",
       "    </tr>\n",
       "    <tr>\n",
       "      <th>3</th>\n",
       "      <td>Asia</td>\n",
       "      <td>North Korea</td>\n",
       "      <td>Cereal</td>\n",
       "      <td>Offline</td>\n",
       "      <td>L</td>\n",
       "      <td>5/13/2010</td>\n",
       "      <td>892599952</td>\n",
       "      <td>6/15/2010</td>\n",
       "      <td>9016</td>\n",
       "      <td>205.70</td>\n",
       "      <td>117.11</td>\n",
       "      <td>1854591.20</td>\n",
       "      <td>1055863.76</td>\n",
       "      <td>798727.44</td>\n",
       "    </tr>\n",
       "    <tr>\n",
       "      <th>4</th>\n",
       "      <td>Asia</td>\n",
       "      <td>Sri Lanka</td>\n",
       "      <td>Snacks</td>\n",
       "      <td>Offline</td>\n",
       "      <td>C</td>\n",
       "      <td>7/20/2015</td>\n",
       "      <td>571902596</td>\n",
       "      <td>7/27/2015</td>\n",
       "      <td>7542</td>\n",
       "      <td>152.58</td>\n",
       "      <td>97.44</td>\n",
       "      <td>1150758.36</td>\n",
       "      <td>734892.48</td>\n",
       "      <td>415865.88</td>\n",
       "    </tr>\n",
       "  </tbody>\n",
       "</table>\n",
       "</div>"
      ],
      "text/plain": [
       "                              Region               Country  Item Type  \\\n",
       "0  Central America and the Caribbean  Antigua and Barbuda   Baby Food   \n",
       "1  Central America and the Caribbean                Panama     Snacks   \n",
       "2                             Europe        Czech Republic  Beverages   \n",
       "3                               Asia           North Korea     Cereal   \n",
       "4                               Asia             Sri Lanka     Snacks   \n",
       "\n",
       "  Sales Channel Order Priority  Order Date   Order ID  Ship Date  Units Sold  \\\n",
       "0        Online              M  12/20/2013  957081544  1/11/2014         552   \n",
       "1       Offline              C    7/5/2010  301644504  7/26/2010        2167   \n",
       "2       Offline              C   9/12/2011  478051030  9/29/2011        4778   \n",
       "3       Offline              L   5/13/2010  892599952  6/15/2010        9016   \n",
       "4       Offline              C   7/20/2015  571902596  7/27/2015        7542   \n",
       "\n",
       "   Unit Price  Unit Cost  Total Revenue  Total Cost  Total Profit  \n",
       "0      255.28     159.42      140914.56    87999.84      52914.72  \n",
       "1      152.58      97.44      330640.86   211152.48     119488.38  \n",
       "2       47.45      31.79      226716.10   151892.62      74823.48  \n",
       "3      205.70     117.11     1854591.20  1055863.76     798727.44  \n",
       "4      152.58      97.44     1150758.36   734892.48     415865.88  "
      ]
     },
     "execution_count": 32,
     "metadata": {},
     "output_type": "execute_result"
    }
   ],
   "source": [
    "df = pd.read_csv('sales_record.csv')\n",
    "df.head()"
   ]
  },
  {
   "cell_type": "markdown",
   "id": "4dd67159",
   "metadata": {},
   "source": [
    "b. Scatter"
   ]
  },
  {
   "cell_type": "code",
   "execution_count": 33,
   "id": "5ec35f50",
   "metadata": {},
   "outputs": [
    {
     "data": {
      "image/png": "[encoded data removed]",
      "text/plain": [
       "<Figure size 432x288 with 1 Axes>"
      ]
     },
     "metadata": {
      "needs_background": "light"
     },
     "output_type": "display_data"
    }
   ],
   "source": [
    "plt.scatter(df['Order Date'], df['Units Sold'], alpha=0.1)\n",
    "plt.xlabel(\"Date\")\n",
    "plt.ylabel(\"Units Sold\")\n",
    "plt.title(\"Scatterplot of Units Sold per Day\")\n",
    "plt.show()"
   ]
  },
  {
   "cell_type": "markdown",
   "id": "f8fde87a",
   "metadata": {},
   "source": [
    "c. Bar"
   ]
  },
  {
   "cell_type": "code",
   "execution_count": 34,
   "id": "0ede0f61",
   "metadata": {},
   "outputs": [
    {
     "data": {
      "text/plain": [
       "['Baby Food',\n",
       " 'Beverages',\n",
       " 'Cereal',\n",
       " 'Clothes',\n",
       " 'Cosmetics',\n",
       " 'Fruits',\n",
       " 'Household',\n",
       " 'Meat',\n",
       " 'Office Supplies',\n",
       " 'Personal Care',\n",
       " 'Snacks',\n",
       " 'Vegetables']"
      ]
     },
     "execution_count": 34,
     "metadata": {},
     "output_type": "execute_result"
    }
   ],
   "source": [
    "types = list(df['Item Type'].unique())\n",
    "types.sort()\n",
    "types"
   ]
  },
  {
   "cell_type": "code",
   "execution_count": 35,
   "id": "e8ded668",
   "metadata": {},
   "outputs": [],
   "source": [
    "profits = list(df.groupby('Item Type').sum()['Total Profit'])"
   ]
  },
  {
   "cell_type": "code",
   "execution_count": 36,
   "id": "56f502db",
   "metadata": {},
   "outputs": [
    {
     "data": {
      "image/png": "[encoded data removed]",
      "text/plain": [
       "<Figure size 432x288 with 1 Axes>"
      ]
     },
     "metadata": {
      "needs_background": "light"
     },
     "output_type": "display_data"
    }
   ],
   "source": [
    "# creating the bar plot\n",
    "plt.bar(types, profits, color ='maroon', width = 0.4)\n",
    "plt.xlabel(\"Item Type\")\n",
    "plt.ylabel(\"Total Profits ($ Billions)\")\n",
    "plt.xticks(rotation = 45)\n",
    "plt.show()"
   ]
  },
  {
   "cell_type": "markdown",
   "id": "14ff1796",
   "metadata": {},
   "source": [
    "d. Histogram"
   ]
  },
  {
   "cell_type": "code",
   "execution_count": 37,
   "id": "9f688385",
   "metadata": {
    "scrolled": true
   },
   "outputs": [
    {
     "data": {
      "image/png": "[encoded data removed]",
      "text/plain": [
       "<Figure size 432x288 with 1 Axes>"
      ]
     },
     "metadata": {
      "needs_background": "light"
     },
     "output_type": "display_data"
    }
   ],
   "source": [
    "plt.hist(df['Region'], density=True, bins = 14, align='mid')\n",
    "plt.xticks(rotation = 55)\n",
    "plt.show() "
   ]
  }
 ],
 "metadata": {
  "kernelspec": {
   "display_name": "Python 3 (ipykernel)",
   "language": "python",
   "name": "python3"
  },
  "language_info": {
   "codemirror_mode": {
    "name": "ipython",
    "version": 3
   },
   "file_extension": ".py",
   "mimetype": "text/x-python",
   "name": "python",
   "nbconvert_exporter": "python",
   "pygments_lexer": "ipython3",
   "version": "3.9.12"
  }
 },
 "nbformat": 4,
 "nbformat_minor": 5
}
