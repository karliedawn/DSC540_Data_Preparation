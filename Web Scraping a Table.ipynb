{
 "cells": [
  {
   "cell_type": "markdown",
   "id": "09390290",
   "metadata": {},
   "source": [
    "# Week 5 & 6 Exercises  \n",
    "\n",
    "***Karlie Schwartzwald  \n",
    "DSC 540 Fall 2022  \n",
    "Bellevue University***"
   ]
  },
  {
   "cell_type": "markdown",
   "id": "85da58da",
   "metadata": {},
   "source": [
    "Change#: 1  \n",
    "Change(s) Made:  Activity 7  \n",
    "Date of Change:  10/5/2022  \n",
    "Author: Karlie Schwartzwald  \n",
    "Change Approved by: Karlie Schwartzwald  \n",
    "Date Moved to Production: 10/9/2022  \n",
    "\n",
    "Change#: 2  \n",
    "Change(s) Made:  Activity 8  \n",
    "Date of Change:  10/7/2022  \n",
    "Author: Karlie Schwartzwald  \n",
    "Change Approved by: Karlie Schwartzwald  \n",
    "Date Moved to Production: 10/9/2022 "
   ]
  },
  {
   "cell_type": "code",
   "execution_count": 1,
   "id": "473c7f68",
   "metadata": {},
   "outputs": [],
   "source": [
    "# Libraries\n",
    "import pandas as pd\n",
    "import numpy as np\n",
    "import matplotlib.pyplot as plt"
   ]
  },
  {
   "cell_type": "markdown",
   "id": "12c78672",
   "metadata": {},
   "source": [
    "## Data Wrangling with Python: Activity 7, page 207"
   ]
  },
  {
   "cell_type": "code",
   "execution_count": 2,
   "id": "477f6fb3",
   "metadata": {},
   "outputs": [
    {
     "name": "stdout",
     "output_type": "stream",
     "text": [
      "Requirement already satisfied: tabula-py in c:\\programdata\\anaconda3\\lib\\site-packages (2.5.1)\n",
      "Requirement already satisfied: xlrd in c:\\programdata\\anaconda3\\lib\\site-packages (2.0.1)\n",
      "Requirement already satisfied: lxml in c:\\programdata\\anaconda3\\lib\\site-packages (4.6.3)\n",
      "Requirement already satisfied: pandas>=0.25.3 in c:\\programdata\\anaconda3\\lib\\site-packages (from tabula-py) (1.3.4)\n",
      "Requirement already satisfied: numpy in c:\\programdata\\anaconda3\\lib\\site-packages (from tabula-py) (1.20.3)\n",
      "Requirement already satisfied: distro in c:\\programdata\\anaconda3\\lib\\site-packages (from tabula-py) (1.7.0)\n",
      "Requirement already satisfied: pytz>=2017.3 in c:\\programdata\\anaconda3\\lib\\site-packages (from pandas>=0.25.3->tabula-py) (2021.3)\n",
      "Requirement already satisfied: python-dateutil>=2.7.3 in c:\\programdata\\anaconda3\\lib\\site-packages (from pandas>=0.25.3->tabula-py) (2.8.2)\n",
      "Requirement already satisfied: six>=1.5 in c:\\programdata\\anaconda3\\lib\\site-packages (from python-dateutil>=2.7.3->pandas>=0.25.3->tabula-py) (1.16.0)\n"
     ]
    }
   ],
   "source": [
    "!pip install tabula-py xlrd lxml"
   ]
  },
  {
   "cell_type": "markdown",
   "id": "af3c94ba",
   "metadata": {},
   "source": [
    "1. Open the page in a separate Chrome/Firefox tab and use something like an **Inspect Element** tool to view the source HTML and understand its structure."
   ]
  },
  {
   "cell_type": "code",
   "execution_count": 3,
   "id": "f5912a23",
   "metadata": {},
   "outputs": [],
   "source": [
    "from bs4 import BeautifulSoup"
   ]
  },
  {
   "cell_type": "markdown",
   "id": "5734643a",
   "metadata": {},
   "source": [
    "2. Read the page using bs4."
   ]
  },
  {
   "cell_type": "code",
   "execution_count": 4,
   "id": "3f4edf8a",
   "metadata": {},
   "outputs": [],
   "source": [
    "with open(\"Data-Wrangling-with-Python-master/Lesson05/Activity07/List of countries by GDP (nominal) - Wikipedia.htm\", 'rb') as html:\n",
    "    soup = BeautifulSoup(html)"
   ]
  },
  {
   "cell_type": "code",
   "execution_count": 5,
   "id": "6f518e96",
   "metadata": {
    "scrolled": true
   },
   "outputs": [],
   "source": [
    "all_tables = soup.find_all(\"table\")"
   ]
  },
  {
   "cell_type": "markdown",
   "id": "078cf1c1",
   "metadata": {},
   "source": [
    "3. Find the table structure you will need to deal with. (how many tables are there?)"
   ]
  },
  {
   "cell_type": "code",
   "execution_count": 6,
   "id": "299ac5dd",
   "metadata": {},
   "outputs": [
    {
     "name": "stdout",
     "output_type": "stream",
     "text": [
      "There are 9 tables in total.\n"
     ]
    }
   ],
   "source": [
    "print(f'There are {len(all_tables)} tables in total.')"
   ]
  },
  {
   "cell_type": "markdown",
   "id": "e2ad9e40",
   "metadata": {},
   "source": [
    "4. find the right table using bs4."
   ]
  },
  {
   "cell_type": "code",
   "execution_count": 7,
   "id": "5e32c0f8",
   "metadata": {},
   "outputs": [
    {
     "name": "stdout",
     "output_type": "stream",
     "text": [
      "<class 'bs4.element.Tag'>\n"
     ]
    }
   ],
   "source": [
    "data_table = soup.find(\"table\", {\"class\": '\"wikitable\"|}'})\n",
    "print(type(data_table))"
   ]
  },
  {
   "cell_type": "markdown",
   "id": "6fbe5ae2",
   "metadata": {},
   "source": [
    "5. Separate the source names and their corresponding data."
   ]
  },
  {
   "cell_type": "code",
   "execution_count": 8,
   "id": "690f00fe",
   "metadata": {
    "scrolled": true
   },
   "outputs": [],
   "source": [
    "sources = data_table.tbody.findAll('tr',recursive=False)[0]\n",
    "sources_list = [td for td in sources.findAll('td')]"
   ]
  },
  {
   "cell_type": "code",
   "execution_count": 9,
   "id": "383a35ee",
   "metadata": {},
   "outputs": [],
   "source": [
    "data = data_table.tbody.findAll('tr', recursive=False)[1].findAll('td', recursive=False)"
   ]
  },
  {
   "cell_type": "code",
   "execution_count": 10,
   "id": "01ff1e0c",
   "metadata": {},
   "outputs": [],
   "source": [
    "data_tables = []\n",
    "for td in data:\n",
    "    data_tables.append(td.findAll('table'))"
   ]
  },
  {
   "cell_type": "markdown",
   "id": "5433cfee",
   "metadata": {},
   "source": [
    "6. Get the source names from the list of sources you have created."
   ]
  },
  {
   "cell_type": "code",
   "execution_count": 11,
   "id": "73c8a022",
   "metadata": {},
   "outputs": [
    {
     "name": "stdout",
     "output_type": "stream",
     "text": [
      "['International Monetary Fund', 'World Bank', 'United Nations']\n"
     ]
    }
   ],
   "source": [
    "source_names = [source.findAll('a')[0].getText() for source in sources_list]\n",
    "print(source_names)"
   ]
  },
  {
   "cell_type": "markdown",
   "id": "a144562f",
   "metadata": {},
   "source": [
    "7. Separate the header and data from the data that you separated before for the first source only, and then create a DataFrame using that."
   ]
  },
  {
   "cell_type": "code",
   "execution_count": 12,
   "id": "be25ad71",
   "metadata": {},
   "outputs": [
    {
     "data": {
      "text/html": [
       "<div>\n",
       "<style scoped>\n",
       "    .dataframe tbody tr th:only-of-type {\n",
       "        vertical-align: middle;\n",
       "    }\n",
       "\n",
       "    .dataframe tbody tr th {\n",
       "        vertical-align: top;\n",
       "    }\n",
       "\n",
       "    .dataframe thead th {\n",
       "        text-align: right;\n",
       "    }\n",
       "</style>\n",
       "<table border=\"1\" class=\"dataframe\">\n",
       "  <thead>\n",
       "    <tr style=\"text-align: right;\">\n",
       "      <th></th>\n",
       "      <th>Rank</th>\n",
       "      <th>Country</th>\n",
       "      <th>GDP(US$MM)</th>\n",
       "    </tr>\n",
       "  </thead>\n",
       "  <tbody>\n",
       "    <tr>\n",
       "      <th>0</th>\n",
       "      <td>1</td>\n",
       "      <td>United States</td>\n",
       "      <td>19,390,600</td>\n",
       "    </tr>\n",
       "    <tr>\n",
       "      <th>1</th>\n",
       "      <td>2</td>\n",
       "      <td>China[n 1]</td>\n",
       "      <td>12,014,610</td>\n",
       "    </tr>\n",
       "    <tr>\n",
       "      <th>2</th>\n",
       "      <td>3</td>\n",
       "      <td>Japan</td>\n",
       "      <td>4,872,135</td>\n",
       "    </tr>\n",
       "    <tr>\n",
       "      <th>3</th>\n",
       "      <td>4</td>\n",
       "      <td>Germany</td>\n",
       "      <td>3,684,816</td>\n",
       "    </tr>\n",
       "    <tr>\n",
       "      <th>4</th>\n",
       "      <td>5</td>\n",
       "      <td>United Kingdom</td>\n",
       "      <td>2,624,529</td>\n",
       "    </tr>\n",
       "  </tbody>\n",
       "</table>\n",
       "</div>"
      ],
      "text/plain": [
       "  Rank         Country  GDP(US$MM)\n",
       "0    1   United States  19,390,600\n",
       "1    2      China[n 1]  12,014,610\n",
       "2    3           Japan   4,872,135\n",
       "3    4         Germany   3,684,816\n",
       "4    5  United Kingdom   2,624,529"
      ]
     },
     "execution_count": 12,
     "metadata": {},
     "output_type": "execute_result"
    }
   ],
   "source": [
    "header1 = [th.getText().strip() for th in data_tables[0][0].findAll('thead')[0].findAll('th')]\n",
    "rows1 = data_tables[0][0].findAll('tbody')[0].findAll('tr')[1:]\n",
    "data_rows1 = [[td.get_text().strip() for td in tr.findAll('td')] for tr in rows1]\n",
    "df1 = pd.DataFrame(data_rows1, columns=header1)\n",
    "df1.head()"
   ]
  },
  {
   "cell_type": "markdown",
   "id": "4853d1cd",
   "metadata": {},
   "source": [
    "8. Repeat the last task for the other two data sources."
   ]
  },
  {
   "cell_type": "code",
   "execution_count": 13,
   "id": "ebd0ff73",
   "metadata": {},
   "outputs": [],
   "source": [
    "# 2nd Data Source\n",
    "header2 = [th.getText().strip() for th in data_tables[1][0].findAll('thead')[0].findAll('th')]\n",
    "rows2 = data_tables[1][0].findAll('tbody')[0].findAll('tr')[1:]"
   ]
  },
  {
   "cell_type": "code",
   "execution_count": 14,
   "id": "722177fb",
   "metadata": {},
   "outputs": [],
   "source": [
    "def find_right_text(i, td):\n",
    "    if i == 0:\n",
    "        return td.getText().strip()\n",
    "    elif i == 1:\n",
    "        return td.getText().strip()\n",
    "    else:\n",
    "        index = td.text.find(\"♠\")\n",
    "        return td.text[index+1:].strip()"
   ]
  },
  {
   "cell_type": "code",
   "execution_count": 15,
   "id": "9ffc276f",
   "metadata": {},
   "outputs": [],
   "source": [
    "data_rows2 = [[find_right_text(i, td) for i, td in enumerate(tr.findAll('td'))] for tr in rows2]\n",
    "df2 = pd.DataFrame(data_rows2, columns=header2)"
   ]
  },
  {
   "cell_type": "code",
   "execution_count": 16,
   "id": "892eb0d9",
   "metadata": {
    "scrolled": true
   },
   "outputs": [
    {
     "data": {
      "text/html": [
       "<div>\n",
       "<style scoped>\n",
       "    .dataframe tbody tr th:only-of-type {\n",
       "        vertical-align: middle;\n",
       "    }\n",
       "\n",
       "    .dataframe tbody tr th {\n",
       "        vertical-align: top;\n",
       "    }\n",
       "\n",
       "    .dataframe thead th {\n",
       "        text-align: right;\n",
       "    }\n",
       "</style>\n",
       "<table border=\"1\" class=\"dataframe\">\n",
       "  <thead>\n",
       "    <tr style=\"text-align: right;\">\n",
       "      <th></th>\n",
       "      <th>Rank</th>\n",
       "      <th>Country</th>\n",
       "      <th>GDP(US$MM)</th>\n",
       "    </tr>\n",
       "  </thead>\n",
       "  <tbody>\n",
       "    <tr>\n",
       "      <th>0</th>\n",
       "      <td>1</td>\n",
       "      <td>United States</td>\n",
       "      <td>19,390,604</td>\n",
       "    </tr>\n",
       "    <tr>\n",
       "      <th>1</th>\n",
       "      <td></td>\n",
       "      <td>European Union[23]</td>\n",
       "      <td>17,277,698</td>\n",
       "    </tr>\n",
       "    <tr>\n",
       "      <th>2</th>\n",
       "      <td>2</td>\n",
       "      <td>China[n 4]</td>\n",
       "      <td>12,237,700</td>\n",
       "    </tr>\n",
       "    <tr>\n",
       "      <th>3</th>\n",
       "      <td>3</td>\n",
       "      <td>Japan</td>\n",
       "      <td>4,872,137</td>\n",
       "    </tr>\n",
       "    <tr>\n",
       "      <th>4</th>\n",
       "      <td>4</td>\n",
       "      <td>Germany</td>\n",
       "      <td>3,677,439</td>\n",
       "    </tr>\n",
       "  </tbody>\n",
       "</table>\n",
       "</div>"
      ],
      "text/plain": [
       "  Rank             Country  GDP(US$MM)\n",
       "0    1       United States  19,390,604\n",
       "1       European Union[23]  17,277,698\n",
       "2    2          China[n 4]  12,237,700\n",
       "3    3               Japan   4,872,137\n",
       "4    4             Germany   3,677,439"
      ]
     },
     "execution_count": 16,
     "metadata": {},
     "output_type": "execute_result"
    }
   ],
   "source": [
    "df2.head()"
   ]
  },
  {
   "cell_type": "code",
   "execution_count": 17,
   "id": "0191ae7b",
   "metadata": {},
   "outputs": [],
   "source": [
    "# 3rd Data Source\n",
    "header3 = [th.getText().strip() for th in data_tables[2][0].findAll('thead')[0].findAll('th')]\n",
    "rows3 = data_tables[2][0].findAll('tbody')[0].findAll('tr')[1:]\n",
    "data_rows3 = [[find_right_text(i, td) for i, td in enumerate(tr.findAll('td'))] for tr in rows2]\n",
    "df3 = pd.DataFrame(data_rows3, columns=header3)"
   ]
  },
  {
   "cell_type": "code",
   "execution_count": 18,
   "id": "d5f9433e",
   "metadata": {
    "scrolled": true
   },
   "outputs": [
    {
     "data": {
      "text/html": [
       "<div>\n",
       "<style scoped>\n",
       "    .dataframe tbody tr th:only-of-type {\n",
       "        vertical-align: middle;\n",
       "    }\n",
       "\n",
       "    .dataframe tbody tr th {\n",
       "        vertical-align: top;\n",
       "    }\n",
       "\n",
       "    .dataframe thead th {\n",
       "        text-align: right;\n",
       "    }\n",
       "</style>\n",
       "<table border=\"1\" class=\"dataframe\">\n",
       "  <thead>\n",
       "    <tr style=\"text-align: right;\">\n",
       "      <th></th>\n",
       "      <th>Rank</th>\n",
       "      <th>Country</th>\n",
       "      <th>GDP(US$MM)</th>\n",
       "    </tr>\n",
       "  </thead>\n",
       "  <tbody>\n",
       "    <tr>\n",
       "      <th>0</th>\n",
       "      <td>1</td>\n",
       "      <td>United States</td>\n",
       "      <td>19,390,604</td>\n",
       "    </tr>\n",
       "    <tr>\n",
       "      <th>1</th>\n",
       "      <td></td>\n",
       "      <td>European Union[23]</td>\n",
       "      <td>17,277,698</td>\n",
       "    </tr>\n",
       "    <tr>\n",
       "      <th>2</th>\n",
       "      <td>2</td>\n",
       "      <td>China[n 4]</td>\n",
       "      <td>12,237,700</td>\n",
       "    </tr>\n",
       "    <tr>\n",
       "      <th>3</th>\n",
       "      <td>3</td>\n",
       "      <td>Japan</td>\n",
       "      <td>4,872,137</td>\n",
       "    </tr>\n",
       "    <tr>\n",
       "      <th>4</th>\n",
       "      <td>4</td>\n",
       "      <td>Germany</td>\n",
       "      <td>3,677,439</td>\n",
       "    </tr>\n",
       "  </tbody>\n",
       "</table>\n",
       "</div>"
      ],
      "text/plain": [
       "  Rank             Country  GDP(US$MM)\n",
       "0    1       United States  19,390,604\n",
       "1       European Union[23]  17,277,698\n",
       "2    2          China[n 4]  12,237,700\n",
       "3    3               Japan   4,872,137\n",
       "4    4             Germany   3,677,439"
      ]
     },
     "execution_count": 18,
     "metadata": {},
     "output_type": "execute_result"
    }
   ],
   "source": [
    "df3.head()"
   ]
  },
  {
   "cell_type": "markdown",
   "id": "ab9d0d34",
   "metadata": {},
   "source": [
    "## Data Wrangling with Python: Activity 8, page 233"
   ]
  },
  {
   "cell_type": "markdown",
   "id": "a0fda5b4",
   "metadata": {},
   "source": [
    "1. Read the **visit_data.csv** file."
   ]
  },
  {
   "cell_type": "code",
   "execution_count": 19,
   "id": "0d16867f",
   "metadata": {},
   "outputs": [
    {
     "data": {
      "text/html": [
       "<div>\n",
       "<style scoped>\n",
       "    .dataframe tbody tr th:only-of-type {\n",
       "        vertical-align: middle;\n",
       "    }\n",
       "\n",
       "    .dataframe tbody tr th {\n",
       "        vertical-align: top;\n",
       "    }\n",
       "\n",
       "    .dataframe thead th {\n",
       "        text-align: right;\n",
       "    }\n",
       "</style>\n",
       "<table border=\"1\" class=\"dataframe\">\n",
       "  <thead>\n",
       "    <tr style=\"text-align: right;\">\n",
       "      <th></th>\n",
       "      <th>id</th>\n",
       "      <th>first_name</th>\n",
       "      <th>last_name</th>\n",
       "      <th>email</th>\n",
       "      <th>gender</th>\n",
       "      <th>ip_address</th>\n",
       "      <th>visit</th>\n",
       "    </tr>\n",
       "  </thead>\n",
       "  <tbody>\n",
       "    <tr>\n",
       "      <th>0</th>\n",
       "      <td>1</td>\n",
       "      <td>Sonny</td>\n",
       "      <td>Dahl</td>\n",
       "      <td>sdahl0@mysql.com</td>\n",
       "      <td>Male</td>\n",
       "      <td>135.36.96.183</td>\n",
       "      <td>1225.0</td>\n",
       "    </tr>\n",
       "    <tr>\n",
       "      <th>1</th>\n",
       "      <td>2</td>\n",
       "      <td>NaN</td>\n",
       "      <td>NaN</td>\n",
       "      <td>dhoovart1@hud.gov</td>\n",
       "      <td>NaN</td>\n",
       "      <td>237.165.194.143</td>\n",
       "      <td>919.0</td>\n",
       "    </tr>\n",
       "    <tr>\n",
       "      <th>2</th>\n",
       "      <td>3</td>\n",
       "      <td>Gar</td>\n",
       "      <td>Armal</td>\n",
       "      <td>garmal2@technorati.com</td>\n",
       "      <td>NaN</td>\n",
       "      <td>166.43.137.224</td>\n",
       "      <td>271.0</td>\n",
       "    </tr>\n",
       "    <tr>\n",
       "      <th>3</th>\n",
       "      <td>4</td>\n",
       "      <td>Chiarra</td>\n",
       "      <td>Nulty</td>\n",
       "      <td>cnulty3@newyorker.com</td>\n",
       "      <td>NaN</td>\n",
       "      <td>139.98.137.108</td>\n",
       "      <td>1002.0</td>\n",
       "    </tr>\n",
       "    <tr>\n",
       "      <th>4</th>\n",
       "      <td>5</td>\n",
       "      <td>NaN</td>\n",
       "      <td>NaN</td>\n",
       "      <td>sleaver4@elegantthemes.com</td>\n",
       "      <td>NaN</td>\n",
       "      <td>46.117.117.27</td>\n",
       "      <td>2434.0</td>\n",
       "    </tr>\n",
       "  </tbody>\n",
       "</table>\n",
       "</div>"
      ],
      "text/plain": [
       "   id first_name last_name                       email gender  \\\n",
       "0   1      Sonny      Dahl            sdahl0@mysql.com   Male   \n",
       "1   2        NaN       NaN           dhoovart1@hud.gov    NaN   \n",
       "2   3        Gar     Armal      garmal2@technorati.com    NaN   \n",
       "3   4    Chiarra     Nulty       cnulty3@newyorker.com    NaN   \n",
       "4   5        NaN       NaN  sleaver4@elegantthemes.com    NaN   \n",
       "\n",
       "        ip_address   visit  \n",
       "0    135.36.96.183  1225.0  \n",
       "1  237.165.194.143   919.0  \n",
       "2   166.43.137.224   271.0  \n",
       "3   139.98.137.108  1002.0  \n",
       "4    46.117.117.27  2434.0  "
      ]
     },
     "execution_count": 19,
     "metadata": {},
     "output_type": "execute_result"
    }
   ],
   "source": [
    "visit_df = pd.read_csv('visit_data.csv')\n",
    "visit_df.head()"
   ]
  },
  {
   "cell_type": "markdown",
   "id": "089acd2f",
   "metadata": {},
   "source": [
    "2. Check for duplicates."
   ]
  },
  {
   "cell_type": "code",
   "execution_count": 20,
   "id": "e4c3cd83",
   "metadata": {},
   "outputs": [
    {
     "data": {
      "text/plain": [
       "0"
      ]
     },
     "execution_count": 20,
     "metadata": {},
     "output_type": "execute_result"
    }
   ],
   "source": [
    "visit_df.duplicated().sum()"
   ]
  },
  {
   "cell_type": "code",
   "execution_count": 21,
   "id": "ffcf3184",
   "metadata": {},
   "outputs": [
    {
     "name": "stdout",
     "output_type": "stream",
     "text": [
      "The number of first name duplicates is 320.\n",
      "The number of last name duplicates is 299.\n",
      "The number of email duplicates is 0.\n"
     ]
    }
   ],
   "source": [
    "print(f\"The number of first name duplicates is {sum(visit_df['first_name'].duplicated())}.\")\n",
    "print(f\"The number of last name duplicates is {sum(visit_df['last_name'].duplicated())}.\")\n",
    "print(f\"The number of email duplicates is {sum(visit_df['email'].duplicated())}.\")"
   ]
  },
  {
   "cell_type": "markdown",
   "id": "d526015d",
   "metadata": {},
   "source": [
    "3. Check if any essential column contains NaN."
   ]
  },
  {
   "cell_type": "code",
   "execution_count": 22,
   "id": "e93d8ae1",
   "metadata": {
    "scrolled": true
   },
   "outputs": [
    {
     "data": {
      "text/plain": [
       "id              0\n",
       "first_name    296\n",
       "last_name     296\n",
       "email           0\n",
       "gender        505\n",
       "ip_address      0\n",
       "visit          26\n",
       "dtype: int64"
      ]
     },
     "execution_count": 22,
     "metadata": {},
     "output_type": "execute_result"
    }
   ],
   "source": [
    "visit_df.isnull().sum()"
   ]
  },
  {
   "cell_type": "code",
   "execution_count": 23,
   "id": "56dbace1",
   "metadata": {},
   "outputs": [],
   "source": [
    "visit_df.dropna(subset=['visit'], inplace=True)"
   ]
  },
  {
   "cell_type": "markdown",
   "id": "a9952852",
   "metadata": {},
   "source": [
    "4. Get rid of the outliers."
   ]
  },
  {
   "cell_type": "code",
   "execution_count": 24,
   "id": "3fac1322",
   "metadata": {
    "scrolled": true
   },
   "outputs": [
    {
     "name": "stdout",
     "output_type": "stream",
     "text": [
      "(974, 7)\n"
     ]
    }
   ],
   "source": [
    "size_before = visit_df.shape\n",
    "print(size_before)"
   ]
  },
  {
   "cell_type": "code",
   "execution_count": 25,
   "id": "468982d9",
   "metadata": {},
   "outputs": [
    {
     "name": "stdout",
     "output_type": "stream",
     "text": [
      "795.0\n"
     ]
    }
   ],
   "source": [
    "first_quarter = np.percentile(visit_df['visit'], 25, interpolation = 'midpoint')\n",
    "print(first_quarter)"
   ]
  },
  {
   "cell_type": "code",
   "execution_count": 26,
   "id": "91f7db16",
   "metadata": {},
   "outputs": [],
   "source": [
    "# IQR\n",
    "first_quarter = np.percentile(visit_df['visit'], 25, interpolation = 'midpoint')\n",
    "third_quarter = np.percentile(visit_df['visit'], 75, interpolation = 'midpoint')\n",
    "inter_quartile = third_quarter - first_quarter\n",
    "upper_bound = third_quarter+1.5*inter_quartile\n",
    "lower_bound = first_quarter-1.5*inter_quartile"
   ]
  },
  {
   "cell_type": "code",
   "execution_count": 27,
   "id": "5a5a38d3",
   "metadata": {},
   "outputs": [],
   "source": [
    "no_outliers_df = visit_df.loc[(visit_df['visit'] <= upper_bound) & (visit_df['visit'] >= lower_bound)]"
   ]
  },
  {
   "cell_type": "code",
   "execution_count": 28,
   "id": "f28da499",
   "metadata": {},
   "outputs": [
    {
     "data": {
      "text/plain": [
       "(974, 7)"
      ]
     },
     "execution_count": 28,
     "metadata": {},
     "output_type": "execute_result"
    }
   ],
   "source": [
    "no_outliers_df.shape"
   ]
  },
  {
   "cell_type": "markdown",
   "id": "a67c5769",
   "metadata": {},
   "source": [
    "5. Report the size difference."
   ]
  },
  {
   "cell_type": "code",
   "execution_count": 29,
   "id": "7e44f17d",
   "metadata": {},
   "outputs": [
    {
     "name": "stdout",
     "output_type": "stream",
     "text": [
      "The original dataframe was 1000 rows. After removing NaN values in the 'visits' column, there were 974 rows. Then I applied the interquartile range method of finding outliers, and I found none. So the dataframe remains at 974 rows.\n"
     ]
    }
   ],
   "source": [
    "print(f\"The original dataframe was 1000 rows. After removing NaN values in the 'visits' column, there were 974 rows. Then I applied the interquartile range method of finding outliers, and I found none. So the dataframe remains at 974 rows.\")"
   ]
  },
  {
   "cell_type": "markdown",
   "id": "4de877f8",
   "metadata": {},
   "source": [
    "6. Create a box plot to check for outliers."
   ]
  },
  {
   "cell_type": "code",
   "execution_count": 30,
   "id": "7ff24b49",
   "metadata": {},
   "outputs": [
    {
     "data": {
      "text/plain": [
       "<AxesSubplot:>"
      ]
     },
     "execution_count": 30,
     "metadata": {},
     "output_type": "execute_result"
    },
    {
     "data": {
      "image/png": "[encoded data removed]",
      "text/plain": [
       "<Figure size 432x288 with 1 Axes>"
      ]
     },
     "metadata": {
      "needs_background": "light"
     },
     "output_type": "display_data"
    }
   ],
   "source": [
    "visit_df.boxplot(column = 'visit')"
   ]
  },
  {
   "cell_type": "markdown",
   "id": "a764c358",
   "metadata": {},
   "source": [
    "## Insert data into a SQL Lite database – create a table with the following data:  \n",
    "(Hint: Python for Data Analysis page 191)  "
   ]
  },
  {
   "cell_type": "markdown",
   "id": "a6249180",
   "metadata": {},
   "source": [
    "a. Name, Address, City, State, Zip, Phone Number  "
   ]
  },
  {
   "cell_type": "markdown",
   "id": "60b613f3",
   "metadata": {},
   "source": [
    "b. Add at least 10 rows of data and submit your code with a query generating your results.  "
   ]
  },
  {
   "cell_type": "code",
   "execution_count": 31,
   "id": "90edfa84",
   "metadata": {},
   "outputs": [],
   "source": [
    "import sqlite3"
   ]
  },
  {
   "cell_type": "code",
   "execution_count": 32,
   "id": "0d3b171b",
   "metadata": {},
   "outputs": [],
   "source": [
    "query = \"\"\"\n",
    ".....: CREATE TABLE contact_infos\n",
    ".....: (a VARCHAR(20), b VARCHAR(20),\n",
    ".....: c VARCHAR(20), d VARCHAR(20), \n",
    ".....: e VARCHAR(20), VARCHAR(20)\n",
    ".....: );\"\"\""
   ]
  },
  {
   "cell_type": "code",
   "execution_count": 33,
   "id": "fac1b115",
   "metadata": {},
   "outputs": [],
   "source": [
    "con = sqlite3.connect('mydata.sqlite')"
   ]
  },
  {
   "cell_type": "code",
   "execution_count": 34,
   "id": "5a8cf44a",
   "metadata": {},
   "outputs": [
    {
     "ename": "OperationalError",
     "evalue": "near \"(\": syntax error",
     "output_type": "error",
     "traceback": [
      "\u001b[1;31m---------------------------------------------------------------------------\u001b[0m",
      "\u001b[1;31mOperationalError\u001b[0m                          Traceback (most recent call last)",
      "\u001b[1;32m~\\AppData\\Local\\Temp/ipykernel_27256/1737767619.py\u001b[0m in \u001b[0;36m<module>\u001b[1;34m\u001b[0m\n\u001b[1;32m----> 1\u001b[1;33m \u001b[0mcon\u001b[0m\u001b[1;33m.\u001b[0m\u001b[0mexecute\u001b[0m\u001b[1;33m(\u001b[0m\u001b[0mquery\u001b[0m\u001b[1;33m)\u001b[0m\u001b[1;33m\u001b[0m\u001b[1;33m\u001b[0m\u001b[0m\n\u001b[0m",
      "\u001b[1;31mOperationalError\u001b[0m: near \"(\": syntax error"
     ]
    }
   ],
   "source": [
    "con.execute(query)"
   ]
  },
  {
   "cell_type": "code",
   "execution_count": null,
   "id": "1aa4f9d0",
   "metadata": {},
   "outputs": [],
   "source": [
    "con.commit()"
   ]
  },
  {
   "cell_type": "code",
   "execution_count": null,
   "id": "10fb1838",
   "metadata": {},
   "outputs": [],
   "source": [
    "data = [(\"Joan Villarreal\",\"Ap #977-3836 Augue. Av.\",\"Oaxaca\",\"South Jeolla\",\"15277\",\"1-434-587-8936\"),\n",
    "  (\"Avye Blackburn\",\"892-3722 Dictum Avenue\",\"Ligao\",\"Maluku\",\"68632\",\"1-462-594-8079\"),\n",
    "  (\"Claudia Rodriquez\",\"473 Ut St.\",\"Alphen aan den Rijn\",\"Aisén\",\"879614\",\"(698) 289-3221\"),\n",
    "  (\"Salvador Riley\",\"1080 Ridiculus St.\",\"Martelange\",\"Canarias\",\"373383\",\"1-593-881-4846\"),\n",
    "  (\"Thor Riley\",\"Ap #779-751 Nunc Street\",\"Hạ Long\",\"Nordrhein-Westphalen\",\"3883\",\"(571) 831-7147\"),\n",
    "  (\"Ezekiel Simon\",\"Ap #676-4504 Cum Rd.\",\"Kostroma\",\"Maluku\",\"1744\",\"(316) 284-8751\"),\n",
    "  (\"Hakeem Weber\",\"690-9738 Pede, Avenue\",\"Montoggio\",\"Tripura\",\"422837\",\"(277) 827-2074\"),\n",
    "  (\"Ralph Oneil\",\"142-8594 Mi Avenue\",\"Bloomington\",\"South Chungcheong\",\"36722\",\"1-435-134-4702\"),\n",
    "  (\"Barbara Heath\",\"506-1780 Nunc. Rd.\",\"Chancay\",\"Warwickshire\",\"2268\",\"(748) 342-8836\"),\n",
    "  (\"Dacey Hurley\",\"618 Consequat Ave\",\"Gouda\",\"Piemonte\",\"7583-9548\",\"1-494-334-2117\")]\n",
    "\n"
   ]
  },
  {
   "cell_type": "code",
   "execution_count": null,
   "id": "29b96310",
   "metadata": {},
   "outputs": [],
   "source": [
    " stmt = \"INSERT INTO contact_info VALUES(?, ?, ?, ?, ?, ?)\""
   ]
  },
  {
   "cell_type": "code",
   "execution_count": null,
   "id": "2fb50951",
   "metadata": {},
   "outputs": [],
   "source": [
    "con.executemany(stmt, data)"
   ]
  },
  {
   "cell_type": "code",
   "execution_count": null,
   "id": "62f907c8",
   "metadata": {},
   "outputs": [],
   "source": [
    "con.commit()"
   ]
  },
  {
   "cell_type": "code",
   "execution_count": null,
   "id": "b703940c",
   "metadata": {},
   "outputs": [],
   "source": [
    "cur"
   ]
  }
 ],
 "metadata": {
  "kernelspec": {
   "display_name": "Python 3 (ipykernel)",
   "language": "python",
   "name": "python3"
  },
  "language_info": {
   "codemirror_mode": {
    "name": "ipython",
    "version": 3
   },
   "file_extension": ".py",
   "mimetype": "text/x-python",
   "name": "python",
   "nbconvert_exporter": "python",
   "pygments_lexer": "ipython3",
   "version": "3.9.12"
  }
 },
 "nbformat": 4,
 "nbformat_minor": 5
}
