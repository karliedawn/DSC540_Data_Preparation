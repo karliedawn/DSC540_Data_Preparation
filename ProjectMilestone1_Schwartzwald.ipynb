{
 "cells": [
  {
   "cell_type": "markdown",
   "id": "a197b0d1",
   "metadata": {},
   "source": [
    "# Project Milestone 1  \n",
    "\n",
    "***Karlie Schwartzwald  \n",
    "DSC 540 Fall 2022  \n",
    "Bellevue University***"
   ]
  },
  {
   "cell_type": "markdown",
   "id": "65425086",
   "metadata": {},
   "source": [
    "**Change Control Log:**  \n",
    "\n",
    "Change#: 1  \n",
    "Change(s) Made:  Found relevant data and stored links in markdown cells.  \n",
    "Date of Change:  9/24/2022  \n",
    "Author: Karlie Schwartzwald  \n",
    "Change Approved by: Karlie Schwartzwald  \n",
    "Date Moved to Production: 9/25/2022 \n",
    "\n",
    "Change#: 2  \n",
    "Change(s) Made:  Test API to make sure it works  \n",
    "Date of Change:  9/24/2022  \n",
    "Author: Karlie Schwartzwald  \n",
    "Change Approved by: Karlie Schwartzwald  \n",
    "Date Moved to Production: 9/25/2022 \n",
    "\n",
    "Change#: 2  \n",
    "Change(s) Made:  write-up responses  \n",
    "Date of Change:  9/24/2022  \n",
    "Author: Karlie Schwartzwald  \n",
    "Change Approved by: Karlie Schwartzwald  \n",
    "Date Moved to Production: 9/25/2022 "
   ]
  },
  {
   "cell_type": "markdown",
   "id": "72456282",
   "metadata": {},
   "source": [
    "### Project Subject Area: Describe your project in 1-2 sentences"
   ]
  },
  {
   "cell_type": "markdown",
   "id": "d51632aa",
   "metadata": {},
   "source": [
    "I would like to see if there is any correlation (positive or negative) between the gender devoplement index of a country, and other country wellbeing measures like happiness index rating or GDP."
   ]
  },
  {
   "cell_type": "markdown",
   "id": "94f8a253",
   "metadata": {},
   "source": [
    "### Data Sources:"
   ]
  },
  {
   "cell_type": "markdown",
   "id": "00fb7e3f",
   "metadata": {},
   "source": [
    "***- API:*** https://world-happiness-database.herokuapp.com/\n",
    "***- Backend API info:*** https://github.com/NormanLo4319/World_Happiness_Database_API"
   ]
  },
  {
   "cell_type": "markdown",
   "id": "26e0a6ce",
   "metadata": {},
   "source": [
    "This API provides a database of a countries along with their corresponding Happiness Index Rating, Gini Index data, demographic data, and geographic data (lattitude/longitude/region)."
   ]
  },
  {
   "cell_type": "markdown",
   "id": "f3b943d1",
   "metadata": {},
   "source": [
    "***- Flatfile:*** https://www.kaggle.com/datasets/elmartini/gender-development-index-2019"
   ]
  },
  {
   "cell_type": "markdown",
   "id": "ad539325",
   "metadata": {},
   "source": [
    "This CSV file contains a table of countries with their corresponding Gender Developement index score from the year 2019, as well as other attributes such as the average length of schooling for females and males in a given country."
   ]
  },
  {
   "cell_type": "markdown",
   "id": "41aed2cb",
   "metadata": {},
   "source": [
    "***- Website:*** https://en.wikipedia.org/wiki/List_of_countries_by_GDP_(nominal)"
   ]
  },
  {
   "cell_type": "markdown",
   "id": "2603478f",
   "metadata": {},
   "source": [
    "This table countains countries and corresponding GDP data from three different sources and the corresponding year that those estimates were made."
   ]
  },
  {
   "cell_type": "markdown",
   "id": "9e95d1ff",
   "metadata": {},
   "source": [
    "### Relationships"
   ]
  },
  {
   "cell_type": "markdown",
   "id": "12740e25",
   "metadata": {},
   "source": [
    "***Describe how the data from each source is connected (see example below).\n",
    "If there isn't an obvious relationship, explain how you will make one***"
   ]
  },
  {
   "cell_type": "markdown",
   "id": "42fe0176",
   "metadata": {},
   "source": [
    "All of these data sources describe different kinds of metrics about countries around the world. They all share a common feature of \"Country\"."
   ]
  },
  {
   "cell_type": "markdown",
   "id": "3098ccfb",
   "metadata": {},
   "source": [
    "***250 Words describing how you plan to tackle the project, what the data means, the ethical implications of your project scenario/topic, and what challenges you might face.***"
   ]
  },
  {
   "cell_type": "markdown",
   "id": "221bb20b",
   "metadata": {},
   "source": [
    "I plan to start this project by converting all data formats into data frames.  For the GDP I will need to average all three estimates into one estimate for comparison purposes. From there, I will assign the column “Country” to be the index for each data frame. Then I can merge my data frames into one and have each country be a row with all the attributes needed as columns in one large data frame.  I need to make sure that each of my file sources has the correct corresponding year for each data source (2019 in this case.) Then I plan to search for outliers or empty cell values and remove those rows from the data frame. Finally, I can make three scatterplots between the features “Happiness Index”, “Gender Development Index”, and GDP. This will show me if there is a general trend in the data that is obviously visible or if further statistical analysis is needed. I would like to measure the correlation coefficient between these variables as well.   \n",
    "\n",
    "I think the biggest ethical implication from this project is that it is very difficult to quantify gender equality, as well as the happiness of a country, into just one number. Because of this, I think a lot of subtlety and nuance will be lost in this project. Furthermore, it would be uncomfortable to conclude that gender equality could be inversely correlated with happiness or GDP. While I do not expect this to be the case, I would have ethical issues with those findings and how they could be interpreted. I think the biggest challenge I will face will be merging all the datasets into one large data frame. "
   ]
  },
  {
   "cell_type": "code",
   "execution_count": 2,
   "id": "188ce68b",
   "metadata": {},
   "outputs": [
    {
     "name": "stdout",
     "output_type": "stream",
     "text": [
      "Requirement already satisfied: requests in c:\\programdata\\anaconda3\\lib\\site-packages (2.26.0)\n",
      "Requirement already satisfied: idna<4,>=2.5 in c:\\programdata\\anaconda3\\lib\\site-packages (from requests) (3.2)\n",
      "Requirement already satisfied: certifi>=2017.4.17 in c:\\programdata\\anaconda3\\lib\\site-packages (from requests) (2021.10.8)\n",
      "Requirement already satisfied: charset-normalizer~=2.0.0 in c:\\programdata\\anaconda3\\lib\\site-packages (from requests) (2.0.4)\n",
      "Requirement already satisfied: urllib3<1.27,>=1.21.1 in c:\\programdata\\anaconda3\\lib\\site-packages (from requests) (1.26.7)\n"
     ]
    }
   ],
   "source": [
    "# Test API to make sure it works\n",
    "!pip install requests"
   ]
  },
  {
   "cell_type": "code",
   "execution_count": 3,
   "id": "91a50a2f",
   "metadata": {},
   "outputs": [],
   "source": [
    "import requests"
   ]
  },
  {
   "cell_type": "code",
   "execution_count": 4,
   "id": "99d10cd7",
   "metadata": {
    "scrolled": true
   },
   "outputs": [
    {
     "name": "stdout",
     "output_type": "stream",
     "text": [
      "200\n"
     ]
    }
   ],
   "source": [
    "response = requests.get(\"https://world-happiness-database.herokuapp.com/api/happiness\")\n",
    "print(response.status_code)"
   ]
  }
 ],
 "metadata": {
  "kernelspec": {
   "display_name": "Python 3 (ipykernel)",
   "language": "python",
   "name": "python3"
  },
  "language_info": {
   "codemirror_mode": {
    "name": "ipython",
    "version": 3
   },
   "file_extension": ".py",
   "mimetype": "text/x-python",
   "name": "python",
   "nbconvert_exporter": "python",
   "pygments_lexer": "ipython3",
   "version": "3.9.7"
  }
 },
 "nbformat": 4,
 "nbformat_minor": 5
}
