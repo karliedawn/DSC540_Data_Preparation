{
 "cells": [
  {
   "cell_type": "markdown",
   "id": "ac605979",
   "metadata": {},
   "source": [
    "# Project Milestone 2  \n",
    "\n",
    "***Karlie Schwartzwald  \n",
    "DSC 540 Fall 2022  \n",
    "Bellevue University***"
   ]
  },
  {
   "cell_type": "markdown",
   "id": "35591236",
   "metadata": {},
   "source": [
    "**Change Control Log:**  \n",
    "\n",
    "Change#: 1  \n",
    "Change(s) Made:  Entire Milestone Started and Completed.  \n",
    "Date of Change:  10/8/2022  \n",
    "Author: Karlie Schwartzwald  \n",
    "Change Approved by: Karlie Schwartzwald  \n",
    "Date Moved to Production: 10/9/2022  "
   ]
  },
  {
   "cell_type": "markdown",
   "id": "d67c9553",
   "metadata": {},
   "source": [
    "### Cleaning/Formatting Flat File Source"
   ]
  },
  {
   "cell_type": "markdown",
   "id": "4486fea0",
   "metadata": {},
   "source": [
    "Perform at least 5 data transformation and/or cleansing steps to your flat file data. Make sure you clearly label each transformation (Step #1, Step #2, etc.) in your code and describe what it is doing in 1-2 sentences."
   ]
  },
  {
   "cell_type": "code",
   "execution_count": 1,
   "id": "fb954eeb",
   "metadata": {},
   "outputs": [],
   "source": [
    "# Libraries\n",
    "import pandas as pd\n",
    "import numpy as np\n",
    "import matplotlib.pyplot as plt\n",
    "import seaborn as sns"
   ]
  },
  {
   "cell_type": "code",
   "execution_count": 2,
   "id": "63fee853",
   "metadata": {},
   "outputs": [],
   "source": [
    "GDI_df = pd.read_csv('Final Project\\GDI.csv')"
   ]
  },
  {
   "cell_type": "code",
   "execution_count": 3,
   "id": "7b92ba21",
   "metadata": {},
   "outputs": [
    {
     "data": {
      "text/html": [
       "<div>\n",
       "<style scoped>\n",
       "    .dataframe tbody tr th:only-of-type {\n",
       "        vertical-align: middle;\n",
       "    }\n",
       "\n",
       "    .dataframe tbody tr th {\n",
       "        vertical-align: top;\n",
       "    }\n",
       "\n",
       "    .dataframe thead th {\n",
       "        text-align: right;\n",
       "    }\n",
       "</style>\n",
       "<table border=\"1\" class=\"dataframe\">\n",
       "  <thead>\n",
       "    <tr style=\"text-align: right;\">\n",
       "      <th></th>\n",
       "      <th>HDI Rank</th>\n",
       "      <th>Country</th>\n",
       "      <th>GDI_Value</th>\n",
       "      <th>GDI_Group</th>\n",
       "      <th>HDI_Female</th>\n",
       "      <th>HDI_Male</th>\n",
       "      <th>Lif_Expec_Female</th>\n",
       "      <th>Lif_Excep_Male</th>\n",
       "      <th>Excep_Yrs_Schooling_Female</th>\n",
       "      <th>Excep_Yrs_Schooling_Male</th>\n",
       "      <th>Mean_Yrs_Schooling_Female</th>\n",
       "      <th>Mean_Yrs_Schooling_Male</th>\n",
       "      <th>GNI_PC_Female</th>\n",
       "      <th>GNI_PC_Male</th>\n",
       "    </tr>\n",
       "  </thead>\n",
       "  <tbody>\n",
       "    <tr>\n",
       "      <th>0</th>\n",
       "      <td>NaN</td>\n",
       "      <td>NaN</td>\n",
       "      <td>2019</td>\n",
       "      <td>2019</td>\n",
       "      <td>2019</td>\n",
       "      <td>2019</td>\n",
       "      <td>2019</td>\n",
       "      <td>2019</td>\n",
       "      <td>2019</td>\n",
       "      <td>2019</td>\n",
       "      <td>2019</td>\n",
       "      <td>2019</td>\n",
       "      <td>2019</td>\n",
       "      <td>2019</td>\n",
       "    </tr>\n",
       "    <tr>\n",
       "      <th>1</th>\n",
       "      <td>1.0</td>\n",
       "      <td>Norway</td>\n",
       "      <td>0.990</td>\n",
       "      <td>1</td>\n",
       "      <td>0.949</td>\n",
       "      <td>0.959</td>\n",
       "      <td>84.4</td>\n",
       "      <td>80.4</td>\n",
       "      <td>18.8</td>\n",
       "      <td>17.4</td>\n",
       "      <td>13.0</td>\n",
       "      <td>12.8</td>\n",
       "      <td>58,548</td>\n",
       "      <td>74,280</td>\n",
       "    </tr>\n",
       "    <tr>\n",
       "      <th>2</th>\n",
       "      <td>2.0</td>\n",
       "      <td>Ireland</td>\n",
       "      <td>0.981</td>\n",
       "      <td>1</td>\n",
       "      <td>0.943</td>\n",
       "      <td>0.961</td>\n",
       "      <td>83.9</td>\n",
       "      <td>80.7</td>\n",
       "      <td>18.8</td>\n",
       "      <td>18.6</td>\n",
       "      <td>12.9</td>\n",
       "      <td>12.4</td>\n",
       "      <td>55,540</td>\n",
       "      <td>81,401</td>\n",
       "    </tr>\n",
       "    <tr>\n",
       "      <th>3</th>\n",
       "      <td>2.0</td>\n",
       "      <td>Switzerland</td>\n",
       "      <td>0.968</td>\n",
       "      <td>2</td>\n",
       "      <td>0.934</td>\n",
       "      <td>0.965</td>\n",
       "      <td>85.6</td>\n",
       "      <td>81.9</td>\n",
       "      <td>16.2</td>\n",
       "      <td>16.4</td>\n",
       "      <td>12.7</td>\n",
       "      <td>13.6</td>\n",
       "      <td>57,840</td>\n",
       "      <td>81,137</td>\n",
       "    </tr>\n",
       "    <tr>\n",
       "      <th>4</th>\n",
       "      <td>4.0</td>\n",
       "      <td>Hong Kong, China (SAR)</td>\n",
       "      <td>0.972</td>\n",
       "      <td>2</td>\n",
       "      <td>0.933</td>\n",
       "      <td>0.959</td>\n",
       "      <td>87.7</td>\n",
       "      <td>82.0</td>\n",
       "      <td>17.1</td>\n",
       "      <td>16.8</td>\n",
       "      <td>11.9</td>\n",
       "      <td>12.7</td>\n",
       "      <td>45,961</td>\n",
       "      <td>82,993</td>\n",
       "    </tr>\n",
       "    <tr>\n",
       "      <th>5</th>\n",
       "      <td>4.0</td>\n",
       "      <td>Iceland</td>\n",
       "      <td>0.969</td>\n",
       "      <td>2</td>\n",
       "      <td>0.933</td>\n",
       "      <td>0.963</td>\n",
       "      <td>84.5</td>\n",
       "      <td>81.5</td>\n",
       "      <td>20.2</td>\n",
       "      <td>18.0</td>\n",
       "      <td>12.6</td>\n",
       "      <td>13.0</td>\n",
       "      <td>46,413</td>\n",
       "      <td>62,883</td>\n",
       "    </tr>\n",
       "    <tr>\n",
       "      <th>6</th>\n",
       "      <td>6.0</td>\n",
       "      <td>Germany</td>\n",
       "      <td>0.972</td>\n",
       "      <td>2</td>\n",
       "      <td>0.933</td>\n",
       "      <td>0.960</td>\n",
       "      <td>83.7</td>\n",
       "      <td>78.9</td>\n",
       "      <td>16.9</td>\n",
       "      <td>17.0</td>\n",
       "      <td>13.9</td>\n",
       "      <td>14.4</td>\n",
       "      <td>45,277</td>\n",
       "      <td>65,599</td>\n",
       "    </tr>\n",
       "    <tr>\n",
       "      <th>7</th>\n",
       "      <td>7.0</td>\n",
       "      <td>Sweden</td>\n",
       "      <td>0.983</td>\n",
       "      <td>1</td>\n",
       "      <td>0.936</td>\n",
       "      <td>0.953</td>\n",
       "      <td>84.6</td>\n",
       "      <td>81.0</td>\n",
       "      <td>20.4</td>\n",
       "      <td>18.6</td>\n",
       "      <td>12.7</td>\n",
       "      <td>12.4</td>\n",
       "      <td>47,709</td>\n",
       "      <td>61,287</td>\n",
       "    </tr>\n",
       "    <tr>\n",
       "      <th>8</th>\n",
       "      <td>8.0</td>\n",
       "      <td>Australia</td>\n",
       "      <td>0.976</td>\n",
       "      <td>1</td>\n",
       "      <td>0.932</td>\n",
       "      <td>0.955</td>\n",
       "      <td>85.4</td>\n",
       "      <td>81.5</td>\n",
       "      <td>22.4</td>\n",
       "      <td>21.5</td>\n",
       "      <td>12.8</td>\n",
       "      <td>12.7</td>\n",
       "      <td>39,287</td>\n",
       "      <td>56,954</td>\n",
       "    </tr>\n",
       "    <tr>\n",
       "      <th>9</th>\n",
       "      <td>8.0</td>\n",
       "      <td>Netherlands</td>\n",
       "      <td>0.966</td>\n",
       "      <td>2</td>\n",
       "      <td>0.926</td>\n",
       "      <td>0.960</td>\n",
       "      <td>84.0</td>\n",
       "      <td>80.6</td>\n",
       "      <td>18.8</td>\n",
       "      <td>18.2</td>\n",
       "      <td>12.2</td>\n",
       "      <td>12.7</td>\n",
       "      <td>46,815</td>\n",
       "      <td>68,685</td>\n",
       "    </tr>\n",
       "  </tbody>\n",
       "</table>\n",
       "</div>"
      ],
      "text/plain": [
       "   HDI Rank                 Country GDI_Value GDI_Group HDI_Female HDI_Male  \\\n",
       "0       NaN                     NaN      2019      2019       2019     2019   \n",
       "1       1.0                  Norway     0.990         1      0.949    0.959   \n",
       "2       2.0                 Ireland     0.981         1      0.943    0.961   \n",
       "3       2.0             Switzerland     0.968         2      0.934    0.965   \n",
       "4       4.0  Hong Kong, China (SAR)     0.972         2      0.933    0.959   \n",
       "5       4.0                 Iceland     0.969         2      0.933    0.963   \n",
       "6       6.0                 Germany     0.972         2      0.933    0.960   \n",
       "7       7.0                  Sweden     0.983         1      0.936    0.953   \n",
       "8       8.0               Australia     0.976         1      0.932    0.955   \n",
       "9       8.0             Netherlands     0.966         2      0.926    0.960   \n",
       "\n",
       "  Lif_Expec_Female Lif_Excep_Male Excep_Yrs_Schooling_Female  \\\n",
       "0             2019           2019                       2019   \n",
       "1             84.4           80.4                       18.8   \n",
       "2             83.9           80.7                       18.8   \n",
       "3             85.6           81.9                       16.2   \n",
       "4             87.7           82.0                       17.1   \n",
       "5             84.5           81.5                       20.2   \n",
       "6             83.7           78.9                       16.9   \n",
       "7             84.6           81.0                       20.4   \n",
       "8             85.4           81.5                       22.4   \n",
       "9             84.0           80.6                       18.8   \n",
       "\n",
       "  Excep_Yrs_Schooling_Male Mean_Yrs_Schooling_Female Mean_Yrs_Schooling_Male  \\\n",
       "0                     2019                      2019                    2019   \n",
       "1                     17.4                      13.0                    12.8   \n",
       "2                     18.6                      12.9                    12.4   \n",
       "3                     16.4                      12.7                    13.6   \n",
       "4                     16.8                      11.9                    12.7   \n",
       "5                     18.0                      12.6                    13.0   \n",
       "6                     17.0                      13.9                    14.4   \n",
       "7                     18.6                      12.7                    12.4   \n",
       "8                     21.5                      12.8                    12.7   \n",
       "9                     18.2                      12.2                    12.7   \n",
       "\n",
       "  GNI_PC_Female GNI_PC_Male  \n",
       "0          2019        2019  \n",
       "1        58,548      74,280  \n",
       "2        55,540      81,401  \n",
       "3        57,840      81,137  \n",
       "4        45,961      82,993  \n",
       "5        46,413      62,883  \n",
       "6        45,277      65,599  \n",
       "7        47,709      61,287  \n",
       "8        39,287      56,954  \n",
       "9        46,815      68,685  "
      ]
     },
     "execution_count": 3,
     "metadata": {},
     "output_type": "execute_result"
    }
   ],
   "source": [
    "GDI_df.head(10)"
   ]
  },
  {
   "cell_type": "markdown",
   "id": "f78d22f4",
   "metadata": {},
   "source": [
    "### Step 1: Remove NaN Rows and Not Needed Columns"
   ]
  },
  {
   "cell_type": "code",
   "execution_count": 4,
   "id": "1a643d82",
   "metadata": {},
   "outputs": [],
   "source": [
    "# Drop rows with NaN\n",
    "GDI_df = GDI_df.dropna()"
   ]
  },
  {
   "cell_type": "code",
   "execution_count": 5,
   "id": "d3b3236f",
   "metadata": {},
   "outputs": [
    {
     "data": {
      "text/html": [
       "<div>\n",
       "<style scoped>\n",
       "    .dataframe tbody tr th:only-of-type {\n",
       "        vertical-align: middle;\n",
       "    }\n",
       "\n",
       "    .dataframe tbody tr th {\n",
       "        vertical-align: top;\n",
       "    }\n",
       "\n",
       "    .dataframe thead th {\n",
       "        text-align: right;\n",
       "    }\n",
       "</style>\n",
       "<table border=\"1\" class=\"dataframe\">\n",
       "  <thead>\n",
       "    <tr style=\"text-align: right;\">\n",
       "      <th></th>\n",
       "      <th>Country</th>\n",
       "      <th>GDI_Value</th>\n",
       "      <th>Lif_Expec_Female</th>\n",
       "      <th>Lif_Excep_Male</th>\n",
       "    </tr>\n",
       "  </thead>\n",
       "  <tbody>\n",
       "    <tr>\n",
       "      <th>1</th>\n",
       "      <td>Norway</td>\n",
       "      <td>0.990</td>\n",
       "      <td>84.4</td>\n",
       "      <td>80.4</td>\n",
       "    </tr>\n",
       "    <tr>\n",
       "      <th>2</th>\n",
       "      <td>Ireland</td>\n",
       "      <td>0.981</td>\n",
       "      <td>83.9</td>\n",
       "      <td>80.7</td>\n",
       "    </tr>\n",
       "    <tr>\n",
       "      <th>3</th>\n",
       "      <td>Switzerland</td>\n",
       "      <td>0.968</td>\n",
       "      <td>85.6</td>\n",
       "      <td>81.9</td>\n",
       "    </tr>\n",
       "    <tr>\n",
       "      <th>4</th>\n",
       "      <td>Hong Kong, China (SAR)</td>\n",
       "      <td>0.972</td>\n",
       "      <td>87.7</td>\n",
       "      <td>82.0</td>\n",
       "    </tr>\n",
       "    <tr>\n",
       "      <th>5</th>\n",
       "      <td>Iceland</td>\n",
       "      <td>0.969</td>\n",
       "      <td>84.5</td>\n",
       "      <td>81.5</td>\n",
       "    </tr>\n",
       "  </tbody>\n",
       "</table>\n",
       "</div>"
      ],
      "text/plain": [
       "                  Country GDI_Value Lif_Expec_Female Lif_Excep_Male\n",
       "1                  Norway     0.990             84.4           80.4\n",
       "2                 Ireland     0.981             83.9           80.7\n",
       "3             Switzerland     0.968             85.6           81.9\n",
       "4  Hong Kong, China (SAR)     0.972             87.7           82.0\n",
       "5                 Iceland     0.969             84.5           81.5"
      ]
     },
     "execution_count": 5,
     "metadata": {},
     "output_type": "execute_result"
    }
   ],
   "source": [
    "# Drop unnecesary columns\n",
    "GDI_df = GDI_df[['Country', 'GDI_Value', 'Lif_Expec_Female', 'Lif_Excep_Male']]\n",
    "GDI_df.head()"
   ]
  },
  {
   "cell_type": "markdown",
   "id": "7be1977f",
   "metadata": {},
   "source": [
    "### Step 2: Find Non-Numeric Entries in Numeric Features"
   ]
  },
  {
   "cell_type": "code",
   "execution_count": 6,
   "id": "c9141708",
   "metadata": {
    "scrolled": true
   },
   "outputs": [
    {
     "data": {
      "text/plain": [
       "22"
      ]
     },
     "execution_count": 6,
     "metadata": {},
     "output_type": "execute_result"
    }
   ],
   "source": [
    "# Convert columns to numerical and replace strings with NaN\n",
    "GDI_df['GDI_Value'] = GDI_df['GDI_Value'].apply(lambda x: pd.to_numeric(x, errors='coerce'))\n",
    "GDI_df['GDI_Value'].isna().sum()"
   ]
  },
  {
   "cell_type": "code",
   "execution_count": 7,
   "id": "85b2fd15",
   "metadata": {},
   "outputs": [
    {
     "data": {
      "text/plain": [
       "6"
      ]
     },
     "execution_count": 7,
     "metadata": {},
     "output_type": "execute_result"
    }
   ],
   "source": [
    "GDI_df['Lif_Expec_Female'] = GDI_df['Lif_Expec_Female'].apply(lambda x: pd.to_numeric(x, errors='coerce'))\n",
    "GDI_df['Lif_Expec_Female'].isna().sum()"
   ]
  },
  {
   "cell_type": "code",
   "execution_count": 8,
   "id": "e8428f68",
   "metadata": {},
   "outputs": [
    {
     "data": {
      "text/plain": [
       "6"
      ]
     },
     "execution_count": 8,
     "metadata": {},
     "output_type": "execute_result"
    }
   ],
   "source": [
    "GDI_df['Lif_Excep_Male'] = GDI_df['Lif_Excep_Male'].apply(lambda x: pd.to_numeric(x, errors='coerce'))\n",
    "GDI_df['Lif_Excep_Male'].isna().sum()"
   ]
  },
  {
   "cell_type": "code",
   "execution_count": 9,
   "id": "27a8d5e4",
   "metadata": {},
   "outputs": [],
   "source": [
    "# Remove new NaN values from tables\n",
    "GDI_df = GDI_df.dropna()"
   ]
  },
  {
   "cell_type": "markdown",
   "id": "d92eef28",
   "metadata": {},
   "source": [
    "### Step 3: Check for Outliers"
   ]
  },
  {
   "cell_type": "code",
   "execution_count": 10,
   "id": "7b1ba70d",
   "metadata": {
    "scrolled": false
   },
   "outputs": [
    {
     "data": {
      "image/png": "[encoded data removed]",
      "text/plain": [
       "<Figure size 432x288 with 1 Axes>"
      ]
     },
     "metadata": {
      "needs_background": "light"
     },
     "output_type": "display_data"
    }
   ],
   "source": [
    "# make histograms for each feature to check for outliers\n",
    "plt.title(f\"Boxplot of GDI_Value\")\n",
    "plt.boxplot(GDI_df['GDI_Value'])\n",
    "plt.show()"
   ]
  },
  {
   "cell_type": "code",
   "execution_count": 11,
   "id": "f622ed70",
   "metadata": {},
   "outputs": [
    {
     "data": {
      "text/html": [
       "<div>\n",
       "<style scoped>\n",
       "    .dataframe tbody tr th:only-of-type {\n",
       "        vertical-align: middle;\n",
       "    }\n",
       "\n",
       "    .dataframe tbody tr th {\n",
       "        vertical-align: top;\n",
       "    }\n",
       "\n",
       "    .dataframe thead th {\n",
       "        text-align: right;\n",
       "    }\n",
       "</style>\n",
       "<table border=\"1\" class=\"dataframe\">\n",
       "  <thead>\n",
       "    <tr style=\"text-align: right;\">\n",
       "      <th></th>\n",
       "      <th>Country</th>\n",
       "      <th>GDI_Value</th>\n",
       "      <th>Lif_Expec_Female</th>\n",
       "      <th>Lif_Excep_Male</th>\n",
       "    </tr>\n",
       "  </thead>\n",
       "  <tbody>\n",
       "    <tr>\n",
       "      <th>123</th>\n",
       "      <td>Iraq</td>\n",
       "      <td>0.774</td>\n",
       "      <td>72.7</td>\n",
       "      <td>68.6</td>\n",
       "    </tr>\n",
       "    <tr>\n",
       "      <th>154</th>\n",
       "      <td>Pakistan</td>\n",
       "      <td>0.745</td>\n",
       "      <td>68.3</td>\n",
       "      <td>66.3</td>\n",
       "    </tr>\n",
       "    <tr>\n",
       "      <th>169</th>\n",
       "      <td>Afghanistan</td>\n",
       "      <td>0.659</td>\n",
       "      <td>66.4</td>\n",
       "      <td>63.4</td>\n",
       "    </tr>\n",
       "    <tr>\n",
       "      <th>179</th>\n",
       "      <td>Yemen</td>\n",
       "      <td>0.488</td>\n",
       "      <td>67.8</td>\n",
       "      <td>64.4</td>\n",
       "    </tr>\n",
       "    <tr>\n",
       "      <th>187</th>\n",
       "      <td>Chad</td>\n",
       "      <td>0.764</td>\n",
       "      <td>55.7</td>\n",
       "      <td>52.8</td>\n",
       "    </tr>\n",
       "    <tr>\n",
       "      <th>189</th>\n",
       "      <td>Niger</td>\n",
       "      <td>0.724</td>\n",
       "      <td>63.6</td>\n",
       "      <td>61.3</td>\n",
       "    </tr>\n",
       "  </tbody>\n",
       "</table>\n",
       "</div>"
      ],
      "text/plain": [
       "         Country  GDI_Value  Lif_Expec_Female  Lif_Excep_Male\n",
       "123         Iraq      0.774              72.7            68.6\n",
       "154     Pakistan      0.745              68.3            66.3\n",
       "169  Afghanistan      0.659              66.4            63.4\n",
       "179        Yemen      0.488              67.8            64.4\n",
       "187         Chad      0.764              55.7            52.8\n",
       "189        Niger      0.724              63.6            61.3"
      ]
     },
     "execution_count": 11,
     "metadata": {},
     "output_type": "execute_result"
    }
   ],
   "source": [
    "# Closer look at outliers\n",
    "GDI_df[GDI_df['GDI_Value']< 0.8]"
   ]
  },
  {
   "cell_type": "code",
   "execution_count": 12,
   "id": "58358d7d",
   "metadata": {},
   "outputs": [
    {
     "data": {
      "image/png": "[encoded data removed]",
      "text/plain": [
       "<Figure size 432x288 with 1 Axes>"
      ]
     },
     "metadata": {
      "needs_background": "light"
     },
     "output_type": "display_data"
    }
   ],
   "source": [
    "plt.title(f\"Boxplot of Lif_Expec_Female\")\n",
    "plt.boxplot(GDI_df['Lif_Expec_Female'])\n",
    "plt.show()"
   ]
  },
  {
   "cell_type": "code",
   "execution_count": 13,
   "id": "f6b9bb74",
   "metadata": {
    "scrolled": true
   },
   "outputs": [
    {
     "data": {
      "image/png": "[encoded data removed]",
      "text/plain": [
       "<Figure size 432x288 with 1 Axes>"
      ]
     },
     "metadata": {
      "needs_background": "light"
     },
     "output_type": "display_data"
    }
   ],
   "source": [
    "plt.title(f\"Boxplot of Lif_Excep_Male\")\n",
    "plt.boxplot(GDI_df['Lif_Excep_Male'])\n",
    "plt.show()"
   ]
  },
  {
   "cell_type": "markdown",
   "id": "f87cc45a",
   "metadata": {},
   "source": [
    "It appears that the GDI_Value feature has some outliers in it. I beliee these are real observations and not mistakes, and therefore I will keep them in the training set rather than dropping them."
   ]
  },
  {
   "cell_type": "markdown",
   "id": "3f494b19",
   "metadata": {},
   "source": [
    "### Step 4: Drop Duplicates"
   ]
  },
  {
   "cell_type": "code",
   "execution_count": 14,
   "id": "8b41de9b",
   "metadata": {},
   "outputs": [
    {
     "data": {
      "text/html": [
       "<div>\n",
       "<style scoped>\n",
       "    .dataframe tbody tr th:only-of-type {\n",
       "        vertical-align: middle;\n",
       "    }\n",
       "\n",
       "    .dataframe tbody tr th {\n",
       "        vertical-align: top;\n",
       "    }\n",
       "\n",
       "    .dataframe thead th {\n",
       "        text-align: right;\n",
       "    }\n",
       "</style>\n",
       "<table border=\"1\" class=\"dataframe\">\n",
       "  <thead>\n",
       "    <tr style=\"text-align: right;\">\n",
       "      <th></th>\n",
       "      <th>Country</th>\n",
       "      <th>GDI_Value</th>\n",
       "      <th>Lif_Expec_Female</th>\n",
       "      <th>Lif_Excep_Male</th>\n",
       "    </tr>\n",
       "  </thead>\n",
       "  <tbody>\n",
       "    <tr>\n",
       "      <th>1</th>\n",
       "      <td>Norway</td>\n",
       "      <td>0.990</td>\n",
       "      <td>84.4</td>\n",
       "      <td>80.4</td>\n",
       "    </tr>\n",
       "    <tr>\n",
       "      <th>2</th>\n",
       "      <td>Ireland</td>\n",
       "      <td>0.981</td>\n",
       "      <td>83.9</td>\n",
       "      <td>80.7</td>\n",
       "    </tr>\n",
       "    <tr>\n",
       "      <th>3</th>\n",
       "      <td>Switzerland</td>\n",
       "      <td>0.968</td>\n",
       "      <td>85.6</td>\n",
       "      <td>81.9</td>\n",
       "    </tr>\n",
       "    <tr>\n",
       "      <th>4</th>\n",
       "      <td>Hong Kong, China (SAR)</td>\n",
       "      <td>0.972</td>\n",
       "      <td>87.7</td>\n",
       "      <td>82.0</td>\n",
       "    </tr>\n",
       "    <tr>\n",
       "      <th>5</th>\n",
       "      <td>Iceland</td>\n",
       "      <td>0.969</td>\n",
       "      <td>84.5</td>\n",
       "      <td>81.5</td>\n",
       "    </tr>\n",
       "    <tr>\n",
       "      <th>...</th>\n",
       "      <td>...</td>\n",
       "      <td>...</td>\n",
       "      <td>...</td>\n",
       "      <td>...</td>\n",
       "    </tr>\n",
       "    <tr>\n",
       "      <th>185</th>\n",
       "      <td>Burundi</td>\n",
       "      <td>0.999</td>\n",
       "      <td>63.4</td>\n",
       "      <td>59.8</td>\n",
       "    </tr>\n",
       "    <tr>\n",
       "      <th>186</th>\n",
       "      <td>South Sudan</td>\n",
       "      <td>0.842</td>\n",
       "      <td>59.4</td>\n",
       "      <td>56.4</td>\n",
       "    </tr>\n",
       "    <tr>\n",
       "      <th>187</th>\n",
       "      <td>Chad</td>\n",
       "      <td>0.764</td>\n",
       "      <td>55.7</td>\n",
       "      <td>52.8</td>\n",
       "    </tr>\n",
       "    <tr>\n",
       "      <th>188</th>\n",
       "      <td>Central African Republic</td>\n",
       "      <td>0.801</td>\n",
       "      <td>55.5</td>\n",
       "      <td>51.1</td>\n",
       "    </tr>\n",
       "    <tr>\n",
       "      <th>189</th>\n",
       "      <td>Niger</td>\n",
       "      <td>0.724</td>\n",
       "      <td>63.6</td>\n",
       "      <td>61.3</td>\n",
       "    </tr>\n",
       "  </tbody>\n",
       "</table>\n",
       "<p>167 rows × 4 columns</p>\n",
       "</div>"
      ],
      "text/plain": [
       "                      Country  GDI_Value  Lif_Expec_Female  Lif_Excep_Male\n",
       "1                      Norway      0.990              84.4            80.4\n",
       "2                     Ireland      0.981              83.9            80.7\n",
       "3                 Switzerland      0.968              85.6            81.9\n",
       "4      Hong Kong, China (SAR)      0.972              87.7            82.0\n",
       "5                     Iceland      0.969              84.5            81.5\n",
       "..                        ...        ...               ...             ...\n",
       "185                   Burundi      0.999              63.4            59.8\n",
       "186               South Sudan      0.842              59.4            56.4\n",
       "187                      Chad      0.764              55.7            52.8\n",
       "188  Central African Republic      0.801              55.5            51.1\n",
       "189                     Niger      0.724              63.6            61.3\n",
       "\n",
       "[167 rows x 4 columns]"
      ]
     },
     "execution_count": 14,
     "metadata": {},
     "output_type": "execute_result"
    }
   ],
   "source": [
    "GDI_df.drop_duplicates()"
   ]
  },
  {
   "cell_type": "markdown",
   "id": "4ff9b532",
   "metadata": {},
   "source": [
    "### Step 5: Transform and Scale Data"
   ]
  },
  {
   "cell_type": "code",
   "execution_count": 15,
   "id": "f2c68309",
   "metadata": {},
   "outputs": [],
   "source": [
    "# Import scalar\n",
    "from sklearn.preprocessing import MinMaxScaler\n",
    "scaler = MinMaxScaler()"
   ]
  },
  {
   "cell_type": "code",
   "execution_count": 16,
   "id": "e09eb926",
   "metadata": {},
   "outputs": [],
   "source": [
    "#Make copy of DF for scaling\n",
    "GDI_df_scaled = GDI_df.copy()\n",
    "col_names = ['Lif_Expec_Female', 'Lif_Excep_Male']\n",
    "features = GDI_df_scaled[col_names]"
   ]
  },
  {
   "cell_type": "code",
   "execution_count": 17,
   "id": "b4857dc1",
   "metadata": {},
   "outputs": [],
   "source": [
    "#transform life expectancy columns to between 0 and 1\n",
    "GDI_df_scaled[col_names] = scaler.fit_transform(features.values)"
   ]
  },
  {
   "cell_type": "code",
   "execution_count": 18,
   "id": "db7fdc3b",
   "metadata": {
    "scrolled": true
   },
   "outputs": [
    {
     "data": {
      "text/html": [
       "<div>\n",
       "<style scoped>\n",
       "    .dataframe tbody tr th:only-of-type {\n",
       "        vertical-align: middle;\n",
       "    }\n",
       "\n",
       "    .dataframe tbody tr th {\n",
       "        vertical-align: top;\n",
       "    }\n",
       "\n",
       "    .dataframe thead th {\n",
       "        text-align: right;\n",
       "    }\n",
       "</style>\n",
       "<table border=\"1\" class=\"dataframe\">\n",
       "  <thead>\n",
       "    <tr style=\"text-align: right;\">\n",
       "      <th></th>\n",
       "      <th>Country</th>\n",
       "      <th>GDI_Value</th>\n",
       "      <th>Lif_Expec_Female</th>\n",
       "      <th>Lif_Excep_Male</th>\n",
       "    </tr>\n",
       "  </thead>\n",
       "  <tbody>\n",
       "    <tr>\n",
       "      <th>1</th>\n",
       "      <td>Norway</td>\n",
       "      <td>0.990</td>\n",
       "      <td>0.897516</td>\n",
       "      <td>0.948220</td>\n",
       "    </tr>\n",
       "    <tr>\n",
       "      <th>2</th>\n",
       "      <td>Ireland</td>\n",
       "      <td>0.981</td>\n",
       "      <td>0.881988</td>\n",
       "      <td>0.957929</td>\n",
       "    </tr>\n",
       "    <tr>\n",
       "      <th>3</th>\n",
       "      <td>Switzerland</td>\n",
       "      <td>0.968</td>\n",
       "      <td>0.934783</td>\n",
       "      <td>0.996764</td>\n",
       "    </tr>\n",
       "    <tr>\n",
       "      <th>4</th>\n",
       "      <td>Hong Kong, China (SAR)</td>\n",
       "      <td>0.972</td>\n",
       "      <td>1.000000</td>\n",
       "      <td>1.000000</td>\n",
       "    </tr>\n",
       "    <tr>\n",
       "      <th>5</th>\n",
       "      <td>Iceland</td>\n",
       "      <td>0.969</td>\n",
       "      <td>0.900621</td>\n",
       "      <td>0.983819</td>\n",
       "    </tr>\n",
       "    <tr>\n",
       "      <th>...</th>\n",
       "      <td>...</td>\n",
       "      <td>...</td>\n",
       "      <td>...</td>\n",
       "      <td>...</td>\n",
       "    </tr>\n",
       "    <tr>\n",
       "      <th>185</th>\n",
       "      <td>Burundi</td>\n",
       "      <td>0.999</td>\n",
       "      <td>0.245342</td>\n",
       "      <td>0.281553</td>\n",
       "    </tr>\n",
       "    <tr>\n",
       "      <th>186</th>\n",
       "      <td>South Sudan</td>\n",
       "      <td>0.842</td>\n",
       "      <td>0.121118</td>\n",
       "      <td>0.171521</td>\n",
       "    </tr>\n",
       "    <tr>\n",
       "      <th>187</th>\n",
       "      <td>Chad</td>\n",
       "      <td>0.764</td>\n",
       "      <td>0.006211</td>\n",
       "      <td>0.055016</td>\n",
       "    </tr>\n",
       "    <tr>\n",
       "      <th>188</th>\n",
       "      <td>Central African Republic</td>\n",
       "      <td>0.801</td>\n",
       "      <td>0.000000</td>\n",
       "      <td>0.000000</td>\n",
       "    </tr>\n",
       "    <tr>\n",
       "      <th>189</th>\n",
       "      <td>Niger</td>\n",
       "      <td>0.724</td>\n",
       "      <td>0.251553</td>\n",
       "      <td>0.330097</td>\n",
       "    </tr>\n",
       "  </tbody>\n",
       "</table>\n",
       "<p>167 rows × 4 columns</p>\n",
       "</div>"
      ],
      "text/plain": [
       "                      Country  GDI_Value  Lif_Expec_Female  Lif_Excep_Male\n",
       "1                      Norway      0.990          0.897516        0.948220\n",
       "2                     Ireland      0.981          0.881988        0.957929\n",
       "3                 Switzerland      0.968          0.934783        0.996764\n",
       "4      Hong Kong, China (SAR)      0.972          1.000000        1.000000\n",
       "5                     Iceland      0.969          0.900621        0.983819\n",
       "..                        ...        ...               ...             ...\n",
       "185                   Burundi      0.999          0.245342        0.281553\n",
       "186               South Sudan      0.842          0.121118        0.171521\n",
       "187                      Chad      0.764          0.006211        0.055016\n",
       "188  Central African Republic      0.801          0.000000        0.000000\n",
       "189                     Niger      0.724          0.251553        0.330097\n",
       "\n",
       "[167 rows x 4 columns]"
      ]
     },
     "execution_count": 18,
     "metadata": {},
     "output_type": "execute_result"
    }
   ],
   "source": [
    "GDI_df_scaled"
   ]
  },
  {
   "cell_type": "markdown",
   "id": "a409049f",
   "metadata": {},
   "source": [
    "Question: Was I supposed to leave out my test subset before I did fit_transform?"
   ]
  }
 ],
 "metadata": {
  "kernelspec": {
   "display_name": "Python 3 (ipykernel)",
   "language": "python",
   "name": "python3"
  },
  "language_info": {
   "codemirror_mode": {
    "name": "ipython",
    "version": 3
   },
   "file_extension": ".py",
   "mimetype": "text/x-python",
   "name": "python",
   "nbconvert_exporter": "python",
   "pygments_lexer": "ipython3",
   "version": "3.9.7"
  }
 },
 "nbformat": 4,
 "nbformat_minor": 5
}
