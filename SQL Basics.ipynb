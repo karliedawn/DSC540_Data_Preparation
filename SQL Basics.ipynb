{
 "cells": [
  {
   "cell_type": "markdown",
   "id": "a75a6501",
   "metadata": {},
   "source": [
    "# Week 11 & 12 Exercises  \n",
    "\n",
    "***Karlie Schwartzwald  \n",
    "DSC 540 Fall 2022  \n",
    "Bellevue University***"
   ]
  },
  {
   "cell_type": "markdown",
   "id": "91c87e40",
   "metadata": {},
   "source": [
    "Change#: 1  \n",
    "Change(s) Made:  Copied over prompts.  \n",
    "Date of Change:  11/15/2022  \n",
    "Author: Karlie Schwartzwald  \n",
    "Change Approved by: Karlie Schwartzwald  \n",
    "Date Moved to Production: 11/19/2022  \n",
    "\n",
    "Change#: 2  \n",
    "Change(s) Made:  finished assignment.  \n",
    "Date of Change:  11/16/2022  \n",
    "Author: Karlie Schwartzwald  \n",
    "Change Approved by: Karlie Schwartzwald  \n",
    "Date Moved to Production: 11/19/2022  "
   ]
  },
  {
   "cell_type": "markdown",
   "id": "6246b1f1",
   "metadata": {},
   "source": [
    "## Data Wrangling with Python: Activity 11, page 320 (Chapter 8)"
   ]
  },
  {
   "cell_type": "markdown",
   "id": "2c53eb56",
   "metadata": {},
   "source": [
    "1. Connect to **petsDB** and check whether the connection has been successful."
   ]
  },
  {
   "cell_type": "code",
   "execution_count": 1,
   "id": "ef4a61c8",
   "metadata": {},
   "outputs": [],
   "source": [
    "# Libraries\n",
    "import sqlite3"
   ]
  },
  {
   "cell_type": "code",
   "execution_count": 2,
   "id": "fd7bd999",
   "metadata": {},
   "outputs": [],
   "source": [
    "connection_petsdb = sqlite3.connect(\"petsdb\")"
   ]
  },
  {
   "cell_type": "code",
   "execution_count": 3,
   "id": "9d77f81c",
   "metadata": {},
   "outputs": [],
   "source": [
    "# a tiny function to make sure the connection is successful\n",
    "def is_opened(conn):\n",
    "    try:\n",
    "        conn.execute(\"SELECT * FROM persons LIMIT 1\")\n",
    "        return True\n",
    "    except sqlite3.ProgrammingError as e:\n",
    "        print(\"Connection closed {}\".format(e))\n",
    "        return False"
   ]
  },
  {
   "cell_type": "code",
   "execution_count": 4,
   "id": "409e026d",
   "metadata": {},
   "outputs": [
    {
     "name": "stdout",
     "output_type": "stream",
     "text": [
      "True\n"
     ]
    }
   ],
   "source": [
    "print(is_opened(connection_petsdb))"
   ]
  },
  {
   "cell_type": "markdown",
   "id": "24c6e100",
   "metadata": {},
   "source": [
    "2. Find the different age groups in the persons database."
   ]
  },
  {
   "cell_type": "code",
   "execution_count": 5,
   "id": "917587d0",
   "metadata": {},
   "outputs": [],
   "source": [
    "cursor = connection_petsdb.cursor()"
   ]
  },
  {
   "cell_type": "code",
   "execution_count": 6,
   "id": "e0939d36",
   "metadata": {},
   "outputs": [
    {
     "name": "stdout",
     "output_type": "stream",
     "text": [
      "We have 2 people aged 5\n",
      "We have 1 people aged 6\n",
      "We have 1 people aged 7\n",
      "We have 3 people aged 8\n",
      "We have 1 people aged 9\n",
      "We have 2 people aged 11\n",
      "We have 3 people aged 12\n",
      "We have 1 people aged 13\n",
      "We have 4 people aged 14\n",
      "We have 2 people aged 16\n",
      "We have 2 people aged 17\n",
      "We have 3 people aged 18\n",
      "We have 1 people aged 19\n",
      "We have 3 people aged 22\n",
      "We have 2 people aged 23\n",
      "We have 3 people aged 24\n",
      "We have 2 people aged 25\n",
      "We have 1 people aged 27\n",
      "We have 1 people aged 30\n",
      "We have 3 people aged 31\n",
      "We have 1 people aged 32\n",
      "We have 1 people aged 33\n",
      "We have 2 people aged 34\n",
      "We have 3 people aged 35\n",
      "We have 3 people aged 36\n",
      "We have 1 people aged 37\n",
      "We have 2 people aged 39\n",
      "We have 1 people aged 40\n",
      "We have 1 people aged 42\n",
      "We have 2 people aged 44\n",
      "We have 2 people aged 48\n",
      "We have 1 people aged 49\n",
      "We have 1 people aged 50\n",
      "We have 2 people aged 51\n",
      "We have 2 people aged 52\n",
      "We have 2 people aged 53\n",
      "We have 2 people aged 54\n",
      "We have 1 people aged 58\n",
      "We have 1 people aged 59\n",
      "We have 1 people aged 60\n",
      "We have 1 people aged 61\n",
      "We have 2 people aged 62\n",
      "We have 1 people aged 63\n",
      "We have 2 people aged 65\n",
      "We have 2 people aged 66\n",
      "We have 1 people aged 67\n",
      "We have 3 people aged 68\n",
      "We have 1 people aged 69\n",
      "We have 1 people aged 70\n",
      "We have 4 people aged 71\n",
      "We have 1 people aged 72\n",
      "We have 5 people aged 73\n",
      "We have 3 people aged 74\n"
     ]
    }
   ],
   "source": [
    "for people, age in cursor.execute(\"SELECT count(*), age FROM persons GROUP BY age\"):\n",
    "    print(\"We have {} people aged {}\".format(people, age))"
   ]
  },
  {
   "cell_type": "markdown",
   "id": "976b386b",
   "metadata": {},
   "source": [
    "3. Find the age group that has the maximum number of people."
   ]
  },
  {
   "cell_type": "code",
   "execution_count": 7,
   "id": "2f0d64bb",
   "metadata": {},
   "outputs": [
    {
     "name": "stdout",
     "output_type": "stream",
     "text": [
      "Highest number of people 5 came from 73 age group\n"
     ]
    }
   ],
   "source": [
    "for people, age in connection_petsdb.execute(\"SELECT count(*), age FROM persons GROUP BY age ORDER BY count(*) DESC\"):\n",
    "    print(\"Highest number of people {} came from {} age group\".format(people, age))\n",
    "    break"
   ]
  },
  {
   "cell_type": "markdown",
   "id": "ca4ab76a",
   "metadata": {},
   "source": [
    "4. Find the people whp do not have a last name."
   ]
  },
  {
   "cell_type": "code",
   "execution_count": 8,
   "id": "2624a147",
   "metadata": {},
   "outputs": [
    {
     "name": "stdout",
     "output_type": "stream",
     "text": [
      "(60,)\n"
     ]
    }
   ],
   "source": [
    "res = connection_petsdb.execute(\"SELECT count(*) FROM persons WHERE last_name IS null\")\n",
    "for row in res:\n",
    "    print(row)"
   ]
  },
  {
   "cell_type": "markdown",
   "id": "49e53652",
   "metadata": {},
   "source": [
    "5. Find out how many people have more than one pet."
   ]
  },
  {
   "cell_type": "code",
   "execution_count": 9,
   "id": "de55fcd2",
   "metadata": {},
   "outputs": [
    {
     "name": "stdout",
     "output_type": "stream",
     "text": [
      "43 people have more than one pets\n"
     ]
    }
   ],
   "source": [
    "res = connection_petsdb.execute(\"SELECT count(*) FROM (SELECT count(owner_id) FROM pets GROUP BY owner_id HAVING count(owner_id) >1)\")\n",
    "for row in res:\n",
    "    print(\"{} people have more than one pets\".format(row[0]))"
   ]
  },
  {
   "cell_type": "markdown",
   "id": "391636fd",
   "metadata": {},
   "source": [
    "6. Find out how many pets have received treatment."
   ]
  },
  {
   "cell_type": "code",
   "execution_count": 10,
   "id": "060aa6f7",
   "metadata": {},
   "outputs": [
    {
     "name": "stdout",
     "output_type": "stream",
     "text": [
      "(36,)\n"
     ]
    }
   ],
   "source": [
    "res = connection_petsdb.execute(\"SELECT count(*) FROM pets WHERE treatment_done=1\")\n",
    "for row in res:\n",
    "    print(row)"
   ]
  },
  {
   "cell_type": "markdown",
   "id": "34c5a308",
   "metadata": {},
   "source": [
    "7. Find out how many pets have received treatment and the type of pet is known."
   ]
  },
  {
   "cell_type": "code",
   "execution_count": 11,
   "id": "868785ba",
   "metadata": {},
   "outputs": [
    {
     "name": "stdout",
     "output_type": "stream",
     "text": [
      "(16,)\n"
     ]
    }
   ],
   "source": [
    "res = connection_petsdb.execute(\"SELECT count(*) FROM pets WHERE treatment_done=1 AND pet_type IS NOT null\")\n",
    "for row in res:\n",
    "    print(row)"
   ]
  },
  {
   "cell_type": "markdown",
   "id": "5ad8db80",
   "metadata": {},
   "source": [
    "8. Find out how mant pets are from the city called **east port**. "
   ]
  },
  {
   "cell_type": "code",
   "execution_count": 12,
   "id": "007a6a0b",
   "metadata": {},
   "outputs": [
    {
     "name": "stdout",
     "output_type": "stream",
     "text": [
      "(49,)\n"
     ]
    }
   ],
   "source": [
    "res = connection_petsdb.execute(\"SELECT count(*) FROM pets JOIN persons ON pets.owner_id = persons.id WHERE persons.city='east port'\")\n",
    "for row in res:\n",
    "    print(row)"
   ]
  },
  {
   "cell_type": "markdown",
   "id": "cefd501b",
   "metadata": {},
   "source": [
    "9. Find out how mant pets are from the city called **east port** and who received treatment."
   ]
  },
  {
   "cell_type": "code",
   "execution_count": 13,
   "id": "0905d734",
   "metadata": {},
   "outputs": [
    {
     "name": "stdout",
     "output_type": "stream",
     "text": [
      "(11,)\n"
     ]
    }
   ],
   "source": [
    "res = connection_petsdb.execute(\"SELECT count(*) FROM pets JOIN persons ON pets.owner_id = persons.id WHERE persons.city='east port' AND pets.treatment_done=1\")\n",
    "for row in res:\n",
    "    print(row)"
   ]
  }
 ],
 "metadata": {
  "kernelspec": {
   "display_name": "Python 3 (ipykernel)",
   "language": "python",
   "name": "python3"
  },
  "language_info": {
   "codemirror_mode": {
    "name": "ipython",
    "version": 3
   },
   "file_extension": ".py",
   "mimetype": "text/x-python",
   "name": "python",
   "nbconvert_exporter": "python",
   "pygments_lexer": "ipython3",
   "version": "3.9.7"
  }
 },
 "nbformat": 4,
 "nbformat_minor": 5
}
